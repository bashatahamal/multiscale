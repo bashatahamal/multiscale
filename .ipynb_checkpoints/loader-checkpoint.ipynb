{
 "cells": [
  {
   "cell_type": "code",
   "execution_count": 1,
   "metadata": {},
   "outputs": [],
   "source": [
    "import cv2\n",
    "import os\n",
    "import numpy as np"
   ]
  },
  {
   "cell_type": "code",
   "execution_count": 2,
   "metadata": {},
   "outputs": [],
   "source": [
    "loc_collection = 'Auto_Collection_Gray/'\n",
    "# shape = 'Square'\n",
    "shape = 'No_Margin'\n",
    "\n",
    "char_list_nameonly = [\n",
    "    'Alif‬', 'Bā’', 'Tā’', 'Ṡā’‬', 'Jīm', 'h_Ḥā’‬', 'Khā’‬',\n",
    "    'Dāl‬', 'Żāl‬', 'Rā’‬', 'zai‬', 'sīn‬', 'syīn‬', 's_ṣād',\n",
    "    'd_ḍād', 't_ṭā’‬', 'z_ẓȧ’‬', '‘ain', 'gain‬', 'fā’‬', 'qāf‬',\n",
    "    'kāf‬', 'lām‬', 'mīm‬', 'nūn‬', 'wāw‬', 'hā’‬', 'yā’‬'\n",
    "]"
   ]
  },
  {
   "cell_type": "code",
   "execution_count": 3,
   "metadata": {},
   "outputs": [],
   "source": [
    "_lst_path_font = [os.path.join(loc_collection + shape, path)\n",
    "                  for path in os.listdir(loc_collection + shape)]\n",
    "_lst_path_char = []\n",
    "\n",
    "_dict_path_char = {}\n",
    "for x in range(len(_lst_path_font)):\n",
    "    for char_name in os.listdir(_lst_path_font[x]):\n",
    "        _lst_temp = [os.path.join(_lst_path_font[x]+'/'+char_name, path)\n",
    "                     for path in os.listdir(_lst_path_font[x]+'/'+char_name)]\n",
    "        for char_num in range(len(char_list_nameonly)):\n",
    "            if char_name == char_list_nameonly[char_num]:\n",
    "                if _dict_path_char.get(char_num) is None:\n",
    "                    _dict_path_char[char_num] = []\n",
    "                for loc in _lst_temp:\n",
    "                    split_loc = loc.split('.')\n",
    "                    if split_loc[1] != 'png':\n",
    "                        continue\n",
    "                    # Modify here to append only png extension format\n",
    "                    _dict_path_char[char_num].append(loc)"
   ]
  },
  {
   "cell_type": "code",
   "execution_count": 4,
   "metadata": {},
   "outputs": [
    {
     "name": "stdout",
     "output_type": "stream",
     "text": [
      "All files are .png\n"
     ]
    }
   ],
   "source": [
    "# Check non image file\n",
    "all_images = True\n",
    "not_image = []\n",
    "for x in _dict_path_char:\n",
    "    for y in _dict_path_char[x]:\n",
    "        split = y.split('.')\n",
    "        if split[1] != 'png':\n",
    "            not_image.append(y)\n",
    "            all_images = False\n",
    "if all_images:\n",
    "    print('All files are .png')\n",
    "else:\n",
    "    print(not_image)"
   ]
  },
  {
   "cell_type": "code",
   "execution_count": 5,
   "metadata": {},
   "outputs": [],
   "source": [
    "def resize(image, width=None, height=None, inter=cv2.INTER_AREA):\n",
    "    dim = None\n",
    "    (h, w) = image.shape[:2]\n",
    "    if width is None and height is None:\n",
    "        return image\n",
    "    if width is None:\n",
    "        r = height / float(h)\n",
    "        dim = (int(w * r), height)\n",
    "    else:\n",
    "        r = width / float(w)\n",
    "        dim = (width, int(h * r))\n",
    "    # resized = cv2.resize(image, dim, interpolation=inter)\n",
    "    resized = cv2.resize(image, dim)\n",
    "\n",
    "    return resized"
   ]
  },
  {
   "cell_type": "code",
   "execution_count": 6,
   "metadata": {},
   "outputs": [],
   "source": [
    "def concat_image(img_original):\n",
    "    # Get concat image to square\n",
    "    height, width = img_original.shape\n",
    "    if height > width:\n",
    "        concatenate_a = int(round(height - width)/2)\n",
    "        concatenate_b = height - width - concatenate_a\n",
    "        beside = True\n",
    "    else:\n",
    "        concatenate_a = int(round(width - height)/2)\n",
    "        concatenate_b = width - height - concatenate_a\n",
    "        beside = False\n",
    "\n",
    "    if beside:\n",
    "        concatenate_a = np.full((height, concatenate_a), 255, dtype=np.uint8)\n",
    "        concatenate_b = np.full((height, concatenate_b), 255, dtype=np.uint8)\n",
    "        concatImage = np.concatenate(\n",
    "            (concatenate_a, img_original, concatenate_b), axis=1\n",
    "        )\n",
    "    else:\n",
    "        concatenate_a = np.full((concatenate_a, width), 255, dtype=np.uint8)\n",
    "        concatenate_b = np.full((concatenate_b, width), 255, dtype=np.uint8)\n",
    "        concatImage = np.concatenate(\n",
    "            (concatenate_a, img_original, concatenate_b), axis=0\n",
    "        )\n",
    "\n",
    "    return concatImage"
   ]
  },
  {
   "cell_type": "code",
   "execution_count": 7,
   "metadata": {},
   "outputs": [],
   "source": [
    "def padding_square_to_size(image_square, size):\n",
    "    height, width = image_square.shape\n",
    "    if height < size:\n",
    "        concatenate_a = int(round(size-height)/2)\n",
    "        concatenate_b = size - height - concatenate_a\n",
    "        concatenate_up = np.full((concatenate_a, width + concatenate_a + concatenate_b), 255, dtype=np.uint8)\n",
    "        concatenate_down = np.full((concatenate_b, width + concatenate_a + concatenate_b), 255, dtype=np.uint8)\n",
    "        concatenate_left = np.full((height, concatenate_a), 255, dtype=np.uint8)\n",
    "        concatenate_right = np.full((height, concatenate_b), 255, dtype=np.uint8)\n",
    "        concatImage = np.concatenate(\n",
    "            (concatenate_left, image_square, concatenate_right), axis=1\n",
    "        )\n",
    "        concatImage = np.concatenate(\n",
    "            (concatenate_up, concatImage, concatenate_down), axis=0\n",
    "        )\n",
    "\n",
    "        return concatImage\n",
    "    else:\n",
    "        return image_square"
   ]
  },
  {
   "cell_type": "code",
   "execution_count": 8,
   "metadata": {},
   "outputs": [],
   "source": [
    "def strech_to_square(image):\n",
    "    if len(image.shape) < 3:\n",
    "        height, width = image.shape\n",
    "    else:\n",
    "        height, width, _ = image.shape\n",
    "    if height > width:\n",
    "        stsImage = cv2.resize(image, (height, height))\n",
    "    else:\n",
    "        stsImage = cv2.resize(image, (width, width))\n",
    "\n",
    "    return stsImage"
   ]
  },
  {
   "cell_type": "code",
   "execution_count": 9,
   "metadata": {},
   "outputs": [
    {
     "name": "stdout",
     "output_type": "stream",
     "text": [
      "sibh=  30 122\n",
      "sibw=  106 16\n",
      "libh=  288 131\n",
      "libw=  144 313\n",
      "ratio_to_sibh=  0.10416666666666667\n",
      "ratio_to_sibw=  0.051118210862619806\n",
      "ratio_to_32_bh=  0.1111111111111111\n",
      "ratio_to_32_bw=  0.10223642172523961\n"
     ]
    }
   ],
   "source": [
    "if all_images:\n",
    "    smallest_height = 10000\n",
    "    smallest_width = 10000\n",
    "    largest_height = 0\n",
    "    largest_width = 0\n",
    "    smallest_img = 0\n",
    "    largest_img = 0\n",
    "    for char_num in _dict_path_char:\n",
    "        for char_type in _dict_path_char[char_num]:\n",
    "            img = cv2.imread(char_type)\n",
    "            height, width, _ = img.shape\n",
    "            if height < smallest_height:\n",
    "                smallest_height = height\n",
    "                smallest_img_by_height = img\n",
    "            if width < smallest_width:\n",
    "                smallest_width = width\n",
    "                smallest_img_by_width = img\n",
    "            if height > largest_height:\n",
    "                largest_height = height\n",
    "                largest_img_by_height = img\n",
    "            if width > largest_width:\n",
    "                largest_width = width\n",
    "                largest_img_by_width = img\n",
    "    height_sibh, width_sibh, _ = smallest_img_by_height.shape\n",
    "    height_libh, width_libh, _ = largest_img_by_height.shape\n",
    "    height_sibw, width_sibw, _ = smallest_img_by_width.shape\n",
    "    height_libw, width_libw, _ = largest_img_by_width.shape\n",
    "    if height_sibh < width_sibw:\n",
    "        smallest_of_all = height_sibh\n",
    "    else:\n",
    "        smallest_of_all = width_sibw\n",
    "    if height_libh > width_libw:\n",
    "        largest_of_all = height_libh\n",
    "    else:\n",
    "        largest_of_all = width_libw\n",
    "    ratio_to_sibh = float(height_sibh/height_libh)\n",
    "    ratio_to_sibw = float(width_sibw/width_libw)\n",
    "    ratio_to_32_bh = float(32/height_libh)\n",
    "    ratio_to_32_bw = float(32/width_libw)\n",
    "    print('sibh= ', height_sibh, width_sibh)\n",
    "    print('sibw= ', height_sibw, width_sibw)\n",
    "    print('libh= ', height_libh, width_libh)\n",
    "    print('libw= ', height_libw, width_libw)\n",
    "    print('ratio_to_sibh= ', ratio_to_sibh)\n",
    "    print('ratio_to_sibw= ', ratio_to_sibw)\n",
    "    print('ratio_to_32_bh= ', ratio_to_32_bh)\n",
    "    print('ratio_to_32_bw= ', ratio_to_32_bw)\n",
    "    # cv2.imshow('sibh', smallest_img_by_height)\n",
    "    # cv2.imshow('sibw', smallest_img_by_width)\n",
    "    # cv2.imshow('libh', largest_img_by_height)\n",
    "    # cv2.imshow('libw', largest_img_by_width)\n",
    "    # cv2.waitKey(0)\n",
    "    # cv2.destroyAllWindows()\n",
    "    '''\n",
    "    Based on no margin:\n",
    "a. Rationya sama dan mempertahankan bentuk (resize lalu padding square)\n",
    "b. Rationya tidak sama dan mempertahankan bentuk (padding square lalu resize)\n",
    "c. Rationya sama dan tidak mempertahankan bentuk (strech square lalu padding)\n",
    "d. Rationya tidak sama dan tidak mempertahankan bentuk (langsung strech)\n",
    "e. Original no margin langsung dimasukin ke CNN (beda2 ukurannya)\n",
    "f. Original square langsung dimasukin ke CNN (beda2 ukurannya)        \n",
    "    '''\n",
    "    # a.\n",
    "    sameratio_keepform_32_bh = {}\n",
    "    sameratio_keepform_32_bw = {}\n",
    "    sameratio_keepform_sibh = {}\n",
    "    sameratio_keepform_sibw = {}\n",
    "    sameratio_keepform_largest = {}\n",
    "    # b.\n",
    "    diffratio_keepform_32 = {}\n",
    "    diffratio_keepform_sibh = {}\n",
    "    diffratio_keepform_sibw = {}\n",
    "    diffratio_keepform_libh = {}\n",
    "    diffratio_keepform_libw = {}\n",
    "    # c.\n",
    "    sameratio_diffform_32 = {}\n",
    "    sameratio_diffform_smallest = {}\n",
    "    sameratio_diffform_largest = {}\n",
    "    # d.\n",
    "    diffratio_diffform_32 = {}\n",
    "    diffratio_diffform_sibh = {}\n",
    "    diffratio_diffform_sibw = {}\n",
    "    diffratio_diffform_libh = {}\n",
    "    diffratio_diffform_libw = {}\n",
    "\n",
    "    add_sibh = True\n",
    "    add_sibw = True\n",
    "    for char_num in _dict_path_char:\n",
    "        for char_type in _dict_path_char[char_num]:\n",
    "            img = cv2.imread(char_type)\n",
    "            # print(char_type)\n",
    "            img_height, img_width, _ = img.shape\n",
    "            if int(img_width*ratio_to_sibh) < 1:\n",
    "                add_sibh = False\n",
    "                # sameratio_keepform_sibh = {}\n",
    "            if int(img_width*ratio_to_sibw) < 1:\n",
    "                add_sibw = False\n",
    "                # sameratio_keepform_sibw = {}\n",
    "\n",
    "            if add_sibh:\n",
    "                image_sibh = cv2.resize(img,\n",
    "                                        (int(img_width*ratio_to_sibh),\n",
    "                                         int(img_height*ratio_to_sibh)))\n",
    "            if add_sibw:\n",
    "                image_sibw = cv2.resize(img,\n",
    "                                        (int(img_width*ratio_to_sibw),\n",
    "                                         int(img_height*ratio_to_sibw)))\n",
    "            image_32_bh = cv2.resize(img,\n",
    "                                     (int(img_width*ratio_to_32_bh),\n",
    "                                      int(img_height*ratio_to_32_bh)))\n",
    "            image_32_bw = cv2.resize(img,\n",
    "                                     (int(img_width*ratio_to_32_bw),\n",
    "                                      int(img_height*ratio_to_32_bw)))\n",
    "            # Original\n",
    "            gray_img = cv2.cvtColor(img, cv2.COLOR_BGR2GRAY)\n",
    "            _, bw_img = cv2.threshold(gray_img, 127, 255,\n",
    "                                      cv2.THRESH_BINARY)\n",
    "            # square_img = concat_image(bw_img)\n",
    "            square_img = concat_image(gray_img)\n",
    "            # Smallest Image by Height\n",
    "            if add_sibh:\n",
    "                gray_img = cv2.cvtColor(image_sibh, cv2.COLOR_BGR2GRAY)\n",
    "                _, bw_img_sibh = cv2.threshold(gray_img, 127, 255,\n",
    "                                               cv2.THRESH_BINARY)\n",
    "                # square_img_sibh = concat_image(bw_img_sibh)\n",
    "                square_img_sibh = concat_image(gray_img)\n",
    "            # Smallest Image by Width\n",
    "            if add_sibw:\n",
    "                gray_img = cv2.cvtColor(image_sibw, cv2.COLOR_BGR2GRAY)\n",
    "                _, bw_img_sibw = cv2.threshold(gray_img, 127, 255,\n",
    "                                               cv2.THRESH_BINARY)\n",
    "                # square_img_sibw = concat_image(bw_img_sibw)\n",
    "                square_img_sibw = concat_image(gray_img)\n",
    "            # 32 by Height\n",
    "            gray_img = cv2.cvtColor(image_32_bh, cv2.COLOR_BGR2GRAY)\n",
    "            _, bw_img_32_bh = cv2.threshold(gray_img, 127, 255,\n",
    "                                            cv2.THRESH_BINARY)\n",
    "            # square_img_32_bh = concat_image(bw_img_32_bh)\n",
    "            square_img_32_bh = concat_image(gray_img)\n",
    "            # 32 by Width\n",
    "            gray_img = cv2.cvtColor(image_32_bw, cv2.COLOR_BGR2GRAY)\n",
    "            _, bw_img_32_bw = cv2.threshold(gray_img, 127, 255,\n",
    "                                            cv2.THRESH_BINARY)\n",
    "            # square_img_32_bw = concat_image(bw_img_32_bw)\n",
    "            square_img_32_bw = concat_image(gray_img)\n",
    "            # a.\n",
    "            if sameratio_keepform_32_bh.get(char_num) is None:\n",
    "                sameratio_keepform_32_bh[char_num] = []\n",
    "            if sameratio_keepform_32_bw.get(char_num) is None:\n",
    "                sameratio_keepform_32_bw[char_num] = []\n",
    "            if sameratio_keepform_sibh.get(char_num) is None:\n",
    "                sameratio_keepform_sibh[char_num] = []\n",
    "            if sameratio_keepform_sibw.get(char_num) is None:\n",
    "                sameratio_keepform_sibw[char_num] = []\n",
    "            if sameratio_keepform_largest.get(char_num) is None:\n",
    "                sameratio_keepform_largest[char_num] = []\n",
    "            sameratio_keepform_32_bh[char_num].append(\n",
    "                padding_square_to_size(square_img_32_bh, 32)\n",
    "            )\n",
    "            sameratio_keepform_32_bw[char_num].append(\n",
    "                padding_square_to_size(square_img_32_bw, 32)\n",
    "            )\n",
    "            if add_sibh:\n",
    "                sameratio_keepform_sibh[char_num].append(\n",
    "                    padding_square_to_size(square_img_sibh, height_sibh)\n",
    "                )\n",
    "            else:\n",
    "                sameratio_keepform_sibh = {}\n",
    "            if add_sibw:\n",
    "                sameratio_keepform_sibw[char_num].append(\n",
    "                    padding_square_to_size(square_img_sibw, width_sibw)\n",
    "                )\n",
    "            else:\n",
    "                sameratio_keepform_sibw = {}\n",
    "            sameratio_keepform_largest[char_num].append(\n",
    "                padding_square_to_size(square_img, largest_of_all)\n",
    "            )\n",
    "\n",
    "            # b.\n",
    "            image_sibh_dk = cv2.resize(square_img, (height_sibh, height_sibh))\n",
    "            image_sibw_dk = cv2.resize(square_img, (width_sibw, width_sibw))\n",
    "            image_32_dk = cv2.resize(square_img, (32, 32))\n",
    "            image_libh_dk = cv2.resize(square_img, (height_libh, height_libh))\n",
    "            image_libw_dk = cv2.resize(square_img, (width_libw, width_libw))\n",
    "            if diffratio_keepform_32.get(char_num) is None:\n",
    "                diffratio_keepform_32[char_num] = []\n",
    "            if diffratio_keepform_sibh.get(char_num) is None:\n",
    "                diffratio_keepform_sibh[char_num] = []\n",
    "            if diffratio_keepform_sibw.get(char_num) is None:\n",
    "                diffratio_keepform_sibw[char_num] = []\n",
    "            if diffratio_keepform_libh.get(char_num) is None:\n",
    "                diffratio_keepform_libh[char_num] = []\n",
    "            if diffratio_keepform_libw.get(char_num) is None:\n",
    "                diffratio_keepform_libw[char_num] = []\n",
    "            diffratio_keepform_32[char_num].append(image_32_dk)\n",
    "            diffratio_keepform_sibh[char_num].append(image_sibh_dk)\n",
    "            diffratio_keepform_sibw[char_num].append(image_sibw_dk)\n",
    "            diffratio_keepform_libh[char_num].append(image_libh_dk)\n",
    "            diffratio_keepform_libw[char_num].append(image_libw_dk)\n",
    "\n",
    "            # c.\n",
    "            image_sts = strech_to_square(img)\n",
    "            sts_height, sts_width, _ = image_sts.shape\n",
    "            if add_sibh or add_sibw:\n",
    "                image_smallest_sd = cv2.resize(\n",
    "                    image_sts,\n",
    "                    (int(sts_width*smallest_of_all/largest_of_all),\n",
    "                     int(sts_width*smallest_of_all/largest_of_all))\n",
    "                )\n",
    "            image_32_sd = cv2.resize(image_sts,\n",
    "                                     (int(img_width*32/largest_of_all),\n",
    "                                      int(img_width*32/largest_of_all)))\n",
    "\n",
    "            # Original/Largest\n",
    "            gray_img = cv2.cvtColor(image_sts, cv2.COLOR_BGR2GRAY)\n",
    "            _, bw_img_sts = cv2.threshold(gray_img, 127, 255,\n",
    "                                          cv2.THRESH_BINARY)\n",
    "            # image_largest_sd = padding_square_to_size(bw_img_sts,\n",
    "            #                                           largest_of_all)\n",
    "            image_largest_sd = padding_square_to_size(gray_img,\n",
    "                                                      largest_of_all)\n",
    "            \n",
    "            # Smallest Image\n",
    "            if add_sibh or add_sibw:\n",
    "                gray_img = cv2.cvtColor(image_smallest_sd, cv2.COLOR_BGR2GRAY)\n",
    "                _, bw_img_sts_smallest = cv2.threshold(gray_img, 127, 255,\n",
    "                                                       cv2.THRESH_BINARY)\n",
    "                # image_smallest_sd = padding_square_to_size(bw_img_sts_smallest,\n",
    "                #                                            smallest_of_all)\n",
    "                image_smallest_sd = padding_square_to_size(gray_img,\n",
    "                                                           smallest_of_all)\n",
    "            # 32 Image\n",
    "            gray_img = cv2.cvtColor(image_32_sd, cv2.COLOR_BGR2GRAY)\n",
    "            _, bw_img_sts_32 = cv2.threshold(gray_img, 127, 255,\n",
    "                                             cv2.THRESH_BINARY)\n",
    "            # image_32_sd = padding_square_to_size(bw_img_sts_32, 32)\n",
    "            image_32_sd = padding_square_to_size(gray_img, 32)\n",
    "            if sameratio_diffform_32.get(char_num) is None:\n",
    "                sameratio_diffform_32[char_num] = []\n",
    "            if sameratio_diffform_smallest.get(char_num) is None:\n",
    "                sameratio_diffform_smallest[char_num] = []\n",
    "            if sameratio_diffform_largest.get(char_num) is None:\n",
    "                sameratio_diffform_largest[char_num] = []\n",
    "            sameratio_diffform_32[char_num].append(image_32_sd)\n",
    "            sameratio_diffform_smallest[char_num].append(image_smallest_sd)\n",
    "            sameratio_diffform_largest[char_num].append(image_largest_sd)\n",
    "\n",
    "            # d.\n",
    "            image_32_dd = cv2.resize(img, (32, 32))\n",
    "            image_sibh_dd = cv2.resize(img, (height_sibh, height_sibh))\n",
    "            image_sibw_dd = cv2.resize(img, (width_sibw, width_sibw))\n",
    "            image_libh_dd = cv2.resize(img, (height_libh, height_libh))\n",
    "            image_libw_dd = cv2.resize(img, (width_libw, width_libw))\n",
    "            gray_img = cv2.cvtColor(image_32_dd, cv2.COLOR_BGR2GRAY)\n",
    "            # _, bw_img_32_dd = cv2.threshold(gray_img, 127, 255,\n",
    "            #                                 cv2.THRESH_BINARY)\n",
    "            bw_img_32_dd = gray_img\n",
    "            gray_img = cv2.cvtColor(image_sibh_dd, cv2.COLOR_BGR2GRAY)\n",
    "            # _, bw_img_sibh_dd = cv2.threshold(gray_img, 127, 255,\n",
    "            #                                   cv2.THRESH_BINARY)\n",
    "            bw_img_sibh_dd = gray_img\n",
    "            gray_img = cv2.cvtColor(image_sibw_dd, cv2.COLOR_BGR2GRAY)\n",
    "            # _, bw_img_sibw_dd = cv2.threshold(gray_img, 127, 255,\n",
    "            #                                   cv2.THRESH_BINARY)\n",
    "            bw_img_sibw_dd = gray_img\n",
    "            gray_img = cv2.cvtColor(image_libh_dd, cv2.COLOR_BGR2GRAY)\n",
    "            # _, bw_img_libh_dd = cv2.threshold(gray_img, 127, 255,\n",
    "            #                                   cv2.THRESH_BINARY)\n",
    "            bw_img_libh_dd = gray_img\n",
    "            gray_img = cv2.cvtColor(image_libw_dd, cv2.COLOR_BGR2GRAY)\n",
    "            # _, bw_img_libw_dd = cv2.threshold(gray_img, 127, 255,\n",
    "            #                                   cv2.THRESH_BINARY)\n",
    "            bw_img_libw_dd = gray_img\n",
    "            if diffratio_diffform_32.get(char_num) is None:\n",
    "                diffratio_diffform_32[char_num] = []\n",
    "            if diffratio_diffform_sibh.get(char_num) is None:\n",
    "                diffratio_diffform_sibh[char_num] = []\n",
    "            if diffratio_diffform_sibw.get(char_num) is None:\n",
    "                diffratio_diffform_sibw[char_num] = []\n",
    "            if diffratio_diffform_libh.get(char_num) is None:\n",
    "                diffratio_diffform_libh[char_num] = []\n",
    "            if diffratio_diffform_libw.get(char_num) is None:\n",
    "                diffratio_diffform_libw[char_num] = []\n",
    "            diffratio_diffform_32[char_num].append(bw_img_32_dd)\n",
    "            diffratio_diffform_sibh[char_num].append(bw_img_sibh_dd)\n",
    "            diffratio_diffform_sibw[char_num].append(bw_img_sibw_dd)\n",
    "            diffratio_diffform_libh[char_num].append(bw_img_libh_dd)\n",
    "            diffratio_diffform_libw[char_num].append(bw_img_libw_dd)"
   ]
  },
  {
   "cell_type": "code",
   "execution_count": 10,
   "metadata": {},
   "outputs": [],
   "source": [
    "# len(diffratio_keepform_32[5])\n",
    "# len(_dict_path_char[5])\n",
    "temp = {}\n",
    "y = 0\n",
    "for key in _dict_path_char.keys():\n",
    "    cc = len(diffratio_keepform_32[key])\n",
    "#     if temp.get(key) is None:\n",
    "#         temp[key] = []\n",
    "    temp[key] = cc"
   ]
  },
  {
   "cell_type": "code",
   "execution_count": 11,
   "metadata": {},
   "outputs": [
    {
     "name": "stdout",
     "output_type": "stream",
     "text": [
      "char: Alif‬         num: 70     total: 70\n",
      "char: Bā’         num: 99     total: 169\n",
      "char: Tā’         num: 121     total: 290\n",
      "char: Ṡā’‬         num: 76     total: 366\n",
      "char: Jīm         num: 89     total: 455\n",
      "char: h_Ḥā’‬         num: 93     total: 548\n",
      "char: Khā’‬         num: 87     total: 635\n",
      "char: Dāl‬         num: 20     total: 655\n",
      "char: Żāl‬         num: 20     total: 675\n",
      "char: Rā’‬         num: 20     total: 695\n",
      "char: zai‬         num: 20     total: 715\n",
      "char: sīn‬         num: 63     total: 778\n",
      "char: syīn‬         num: 66     total: 844\n",
      "char: s_ṣād         num: 57     total: 901\n",
      "char: d_ḍād         num: 58     total: 959\n",
      "char: t_ṭā’‬         num: 46     total: 1005\n",
      "char: z_ẓȧ’‬         num: 40     total: 1045\n",
      "char: ‘ain         num: 56     total: 1101\n",
      "char: gain‬         num: 54     total: 1155\n",
      "char: fā’‬         num: 60     total: 1215\n",
      "char: qāf‬         num: 54     total: 1269\n",
      "char: kāf‬         num: 67     total: 1336\n",
      "char: lām‬         num: 109     total: 1445\n",
      "char: mīm‬         num: 95     total: 1540\n",
      "char: nūn‬         num: 95     total: 1635\n",
      "char: wāw‬         num: 20     total: 1655\n",
      "char: hā’‬         num: 60     total: 1715\n",
      "char: yā’‬         num: 100     total: 1815\n"
     ]
    }
   ],
   "source": [
    "v = sorted(temp)\n",
    "y = 0\n",
    "for x in range(len(temp)):\n",
    "    y += temp[v[x]]\n",
    "    print('char:', char_list_nameonly[v[x]], '        num:', temp[v[x]], '    total:', y)\n",
    "#     print('_')"
   ]
  },
  {
   "cell_type": "code",
   "execution_count": 12,
   "metadata": {},
   "outputs": [],
   "source": [
    "for char_num in sameratio_keepform_32_bh:\n",
    "    for variation in range(len(sameratio_keepform_32_bh[char_num])):\n",
    "        # cv2.imshow('sk32bh', sameratio_keepform_32_bh[char_num][variation])\n",
    "        # cv2.imshow('sk32bw', sameratio_keepform_32_bw[char_num][variation])\n",
    "        # cv2.imshow('sksibh', sameratio_keepform_sibh[char_num][variation])\n",
    "        # cv2.imshow('sksibw', sameratio_keepform_sibw[char_num][variation])\n",
    "        # cv2.imshow('sklibh', sameratio_keepform_largest[char_num][variation])\n",
    "\n",
    "        cv2.imshow('dk32', diffratio_keepform_32[char_num][variation])\n",
    "        cv2.imshow('dksibh', diffratio_keepform_sibh[char_num][variation])\n",
    "        cv2.imshow('dksibw', diffratio_keepform_sibw[char_num][variation])\n",
    "        cv2.imshow('dklibh', diffratio_keepform_libh[char_num][variation])\n",
    "        cv2.imshow('dklibw', diffratio_keepform_libw[char_num][variation])\n",
    "\n",
    "        # cv2.imshow('sd32', sameratio_diffform_32[char_num][variation])\n",
    "        # cv2.imshow('sdst', sameratio_diffform_smallest[char_num][variation])\n",
    "        # cv2.imshow('sdlt', sameratio_diffform_largest[char_num][variation])\n",
    "        \n",
    "        # cv2.imshow('dd32', diffratio_diffform_32[char_num][variation])\n",
    "        # cv2.imshow('ddsibh', diffratio_diffform_sibh[char_num][variation])\n",
    "        # cv2.imshow('ddsibw', diffratio_diffform_sibw[char_num][variation])\n",
    "        # cv2.imshow('ddlibh', diffratio_diffform_libh[char_num][variation])\n",
    "        # cv2.imshow('ddlibw', diffratio_diffform_libw[char_num][variation])\n",
    "#         print(variation)\n",
    "        if cv2.waitKey(0) & 0xFF == ord('q'):\n",
    "            break\n",
    "    if cv2.waitKey(0) & 0xFF == ord('q'):\n",
    "        break    \n",
    "cv2.destroyAllWindows()"
   ]
  },
  {
   "cell_type": "code",
   "execution_count": 50,
   "metadata": {},
   "outputs": [],
   "source": [
    "sk = ['sameratio_keepform_32_bh', 'sameratio_keepform_32_bw', 'sameratio_keepform_sibh', 'sameratio_keepform_sibw', 'sameratio_keepform_largest']\n",
    "dk = ['diffratio_keepform_32', 'diffratio_keepform_sibh', 'diffratio_keepform_sibw', 'diffratio_keepform_libh', 'diffratio_keepform_libw']\n",
    "sd = ['sameratio_diffform_32', 'sameratio_diffform_smallest', 'sameratio_diffform_largest']\n",
    "dd = ['diffratio_diffform_32', 'diffratio_diffform_sibh', 'diffratio_diffform_sibw', 'diffratio_diffform_libh', 'diffratio_diffform_libw']"
   ]
  },
  {
   "cell_type": "code",
   "execution_count": 45,
   "metadata": {},
   "outputs": [],
   "source": [
    "y = ''\n",
    "for i in range(0,32):\n",
    "    for v in range(0,32):\n",
    "        if v < 31:\n",
    "            if len(str(sameratio_keepform[0][0][0][i][v])) == 1:\n",
    "                y += ' ' + str(sameratio_keepform[0][0][0][i][v]) + '  '\n",
    "            elif len(str(sameratio_keepform[0][0][0][i][v])) == 2:\n",
    "                y += ' ' + str(sameratio_keepform[0][0][0][i][v]) + ' '\n",
    "            else:\n",
    "                y += str(sameratio_keepform[0][0][0][i][v]) + ' '\n",
    "        else:\n",
    "            y += str(sameratio_keepform[0][0][0][i][v]) + '\\n'"
   ]
  },
  {
   "cell_type": "code",
   "execution_count": 46,
   "metadata": {},
   "outputs": [
    {
     "name": "stdout",
     "output_type": "stream",
     "text": [
      "255 255 255 255 255 255 255 255 255 255 255 255 255 255 255 255 255 255 255 255 255 255 255 255 255 255 255 255 255 255 255 255\n",
      "255 255 255 255 255 255 255 255 255 255 255 255 255 255 255 255 255 255 255 255 255 255 255 255 255 255 255 255 255 255 255 255\n",
      "255 255 255 255 255 255 255 255 255 255 255 255 255 255 255 255 255 255 255 255 255 255 255 255 255 255 255 255 255 255 255 255\n",
      "255 255 255 255 255 255 255 255 255 255 255 255 255 255 255 255 255 255 255 255 255 255 255 255 255 255 255 255 255 255 255 255\n",
      "255 255 255 255 255 255 255 255 255 255 255 255 255 255 255 255 255 255 255 255 255 255 255 255 255 255 255 255 255 255 255 255\n",
      "255 255 255 255 255 255 255 255 255 255 255 255 255 255 255 255 255 255 255 255 255 255 255 255 255 255 255 255 255 255 255 255\n",
      "255 255 255 255 255 255 255 255 255 255 255 255 255 255 255 255 255 255 255 255 255 255 255 255 255 255 255 255 255 255 255 255\n",
      "255 255 255 255 255 255 255 255 255 255 255 255 255 255 255 255 255 255 255 255 255 255 255 255 255 255 255 255 255 255 255 255\n",
      "255 255 255 255 255 255 255 255 255 255 255 255 255 255  0  255 255 255 255 255 255 255 255 255 255 255 255 255 255 255 255 255\n",
      "255 255 255 255 255 255 255 255 255 255 255 255 255 255  0  255 255 255 255 255 255 255 255 255 255 255 255 255 255 255 255 255\n",
      "255 255 255 255 255 255 255 255 255 255 255 255 255 255  0  248 255 255 255 255 255 255 255 255 255 255 255 255 255 255 255 255\n",
      "255 255 255 255 255 255 255 255 255 255 255 255 255 255  0   0  255 255 255 255 255 255 255 255 255 255 255 255 255 255 255 255\n",
      "255 255 255 255 255 255 255 255 255 255 255 255 255 255  0   0  255 255 255 255 255 255 255 255 255 255 255 255 255 255 255 255\n",
      "255 255 255 255 255 255 255 255 255 255 255 255 255 255 104  0  255 255 255 255 255 255 255 255 255 255 255 255 255 255 255 255\n",
      "255 255 255 255 255 255 255 255 255 255 255 255 255 255 255  0  255 255 255 255 255 255 255 255 255 255 255 255 255 255 255 255\n",
      "255 255 255 255 255 255 255 255 255 255 255 255 255 255 255  0  255 255 255 255 255 255 255 255 255 255 255 255 255 255 255 255\n",
      "255 255 255 255 255 255 255 255 255 255 255 255 255 255 255  0  255 255 255 255 255 255 255 255 255 255 255 255 255 255 255 255\n",
      "255 255 255 255 255 255 255 255 255 255 255 255 255 255 255  0  164 255 255 255 255 255 255 255 255 255 255 255 255 255 255 255\n",
      "255 255 255 255 255 255 255 255 255 255 255 255 255 255 255  0   1  255 255 255 255 255 255 255 255 255 255 255 255 255 255 255\n",
      "255 255 255 255 255 255 255 255 255 255 255 255 255 255 255  0   0  255 255 255 255 255 255 255 255 255 255 255 255 255 255 255\n",
      "255 255 255 255 255 255 255 255 255 255 255 255 255 255 255  87  0  255 255 255 255 255 255 255 255 255 255 255 255 255 255 255\n",
      "255 255 255 255 255 255 255 255 255 255 255 255 255 255 255 255  0  255 255 255 255 255 255 255 255 255 255 255 255 255 255 255\n",
      "255 255 255 255 255 255 255 255 255 255 255 255 255 255 255 255  0  255 255 255 255 255 255 255 255 255 255 255 255 255 255 255\n",
      "255 255 255 255 255 255 255 255 255 255 255 255 255 255 255 255  0  255 255 255 255 255 255 255 255 255 255 255 255 255 255 255\n",
      "255 255 255 255 255 255 255 255 255 255 255 255 255 255 255 255 255 255 255 255 255 255 255 255 255 255 255 255 255 255 255 255\n",
      "255 255 255 255 255 255 255 255 255 255 255 255 255 255 255 255 255 255 255 255 255 255 255 255 255 255 255 255 255 255 255 255\n",
      "255 255 255 255 255 255 255 255 255 255 255 255 255 255 255 255 255 255 255 255 255 255 255 255 255 255 255 255 255 255 255 255\n",
      "255 255 255 255 255 255 255 255 255 255 255 255 255 255 255 255 255 255 255 255 255 255 255 255 255 255 255 255 255 255 255 255\n",
      "255 255 255 255 255 255 255 255 255 255 255 255 255 255 255 255 255 255 255 255 255 255 255 255 255 255 255 255 255 255 255 255\n",
      "255 255 255 255 255 255 255 255 255 255 255 255 255 255 255 255 255 255 255 255 255 255 255 255 255 255 255 255 255 255 255 255\n",
      "255 255 255 255 255 255 255 255 255 255 255 255 255 255 255 255 255 255 255 255 255 255 255 255 255 255 255 255 255 255 255 255\n",
      "255 255 255 255 255 255 255 255 255 255 255 255 255 255 255 255 255 255 255 255 255 255 255 255 255 255 255 255 255 255 255 255\n",
      "\n"
     ]
    }
   ],
   "source": [
    "print(y)"
   ]
  },
  {
   "cell_type": "code",
   "execution_count": 55,
   "metadata": {},
   "outputs": [
    {
     "data": {
      "text/plain": [
       "['diffratio_keepform_32',\n",
       " 'diffratio_keepform_sibh',\n",
       " 'diffratio_keepform_sibw',\n",
       " 'diffratio_keepform_libh',\n",
       " 'diffratio_keepform_libw']"
      ]
     },
     "execution_count": 55,
     "metadata": {},
     "output_type": "execute_result"
    }
   ],
   "source": [
    "dk"
   ]
  },
  {
   "cell_type": "code",
   "execution_count": 58,
   "metadata": {},
   "outputs": [
    {
     "data": {
      "text/plain": [
       "dict_keys([5, 16, 0, 22, 26, 23, 27, 6, 11, 12, 13, 2, 7, 10, 9, 3, 1, 14, 18, 19, 24, 21, 8, 4, 20, 25, 17, 15])"
      ]
     },
     "execution_count": 58,
     "metadata": {},
     "output_type": "execute_result"
    }
   ],
   "source": [
    "diffratio_keepform_32.keys()"
   ]
  },
  {
   "cell_type": "code",
   "execution_count": 108,
   "metadata": {},
   "outputs": [],
   "source": [
    "data = []\n",
    "label = []\n",
    "for i in range(0,28):\n",
    "    for x in range(len(diffratio_keepform_32[i])):\n",
    "        data.append(diffratio_keepform_32[i][x])\n",
    "        label.append(i)\n",
    "data = np.array(data)\n",
    "label = np.array(label)"
   ]
  },
  {
   "cell_type": "code",
   "execution_count": 70,
   "metadata": {},
   "outputs": [
    {
     "data": {
      "text/plain": [
       "99"
      ]
     },
     "execution_count": 70,
     "metadata": {},
     "output_type": "execute_result"
    }
   ],
   "source": [
    "len(diffratio_keepform_32[1])"
   ]
  },
  {
   "cell_type": "code",
   "execution_count": 77,
   "metadata": {},
   "outputs": [
    {
     "data": {
      "text/plain": [
       "1815"
      ]
     },
     "execution_count": 77,
     "metadata": {},
     "output_type": "execute_result"
    }
   ],
   "source": [
    "len(data)"
   ]
  },
  {
   "cell_type": "code",
   "execution_count": 109,
   "metadata": {},
   "outputs": [],
   "source": [
    "import matplotlib.pyplot as plt\n",
    "import random\n",
    "def plot_gallery(images, titles, n_row=3, n_col=4):\n",
    "    plt.figure(1, figsize=(1.8 * n_col, 2.4 * n_row))\n",
    "    plt.subplots_adjust(bottom=0, left=.01, right=.99, top=.90, hspace=.35)\n",
    "    for i in range(n_row * n_col):\n",
    "        r = random.randint(1,len(images))\n",
    "        plt.subplot(n_row, n_col, i + 1)\n",
    "        plt.imshow(images[r], cmap=plt.cm.gray)\n",
    "        plt.title(char_list_nameonly[titles[r]], size=12)\n",
    "        plt.xticks(())\n",
    "        plt.yticks(())\n",
    "    plt.show()\n",
    "    #plt.savefig(\"predict.png\")"
   ]
  },
  {
   "cell_type": "code",
   "execution_count": 111,
   "metadata": {},
   "outputs": [
    {
     "data": {
      "image/png": "[encoded data removed]",
      "text/plain": [
       "<Figure size 518.4x691.2 with 16 Axes>"
      ]
     },
     "metadata": {},
     "output_type": "display_data"
    }
   ],
   "source": [
    "plot_gallery(data, label, 4, 4)"
   ]
  },
  {
   "cell_type": "code",
   "execution_count": 112,
   "metadata": {},
   "outputs": [],
   "source": [
    "from sklearn.model_selection import train_test_split\n",
    "test_size = 0.25\n",
    "random_state = 52\n",
    "\n",
    "data_train, data_test, y_train, y_test = train_test_split(\n",
    "data, label, test_size=test_size,random_state=random_state)\n"
   ]
  },
  {
   "cell_type": "code",
   "execution_count": 83,
   "metadata": {},
   "outputs": [
    {
     "data": {
      "text/plain": [
       "1361"
      ]
     },
     "execution_count": 83,
     "metadata": {},
     "output_type": "execute_result"
    }
   ],
   "source": [
    "len(data_train)"
   ]
  },
  {
   "cell_type": "code",
   "execution_count": 85,
   "metadata": {},
   "outputs": [
    {
     "data": {
      "text/plain": [
       "454"
      ]
     },
     "execution_count": 85,
     "metadata": {},
     "output_type": "execute_result"
    }
   ],
   "source": [
    "len(data_test)"
   ]
  },
  {
   "cell_type": "code",
   "execution_count": 87,
   "metadata": {},
   "outputs": [
    {
     "data": {
      "text/plain": [
       "454"
      ]
     },
     "execution_count": 87,
     "metadata": {},
     "output_type": "execute_result"
    }
   ],
   "source": [
    "len(y_test)"
   ]
  },
  {
   "cell_type": "code",
   "execution_count": 91,
   "metadata": {},
   "outputs": [],
   "source": [
    "v = set(y_test)"
   ]
  },
  {
   "cell_type": "code",
   "execution_count": 96,
   "metadata": {},
   "outputs": [
    {
     "data": {
      "text/plain": [
       "28"
      ]
     },
     "execution_count": 96,
     "metadata": {},
     "output_type": "execute_result"
    }
   ],
   "source": [
    "len(v)"
   ]
  },
  {
   "cell_type": "code",
   "execution_count": 113,
   "metadata": {},
   "outputs": [
    {
     "name": "stdout",
     "output_type": "stream",
     "text": [
      "(1815, 32, 32)\n",
      "(1815,)\n"
     ]
    }
   ],
   "source": [
    "print(data.shape)\n",
    "print(label.shape)"
   ]
  },
  {
   "cell_type": "code",
   "execution_count": 124,
   "metadata": {},
   "outputs": [],
   "source": [
    "data_train = data_train.reshape(-1, 32, 32, 1).astype(np.float32)/255"
   ]
  },
  {
   "cell_type": "code",
   "execution_count": 125,
   "metadata": {},
   "outputs": [
    {
     "data": {
      "text/plain": [
       "(1361, 32, 32, 1)"
      ]
     },
     "execution_count": 125,
     "metadata": {},
     "output_type": "execute_result"
    }
   ],
   "source": [
    "data_train.shape"
   ]
  },
  {
   "cell_type": "code",
   "execution_count": 119,
   "metadata": {},
   "outputs": [],
   "source": [
    "from keras.layers import BatchNormalization\n",
    "from keras.layers import Dropout\n",
    "from sklearn.model_selection import StratifiedKFold\n",
    "import numpy\n",
    "from keras.utils.np_utils import to_categorical\n",
    "from keras.callbacks import ModelCheckpoint, EarlyStopping, TensorBoard\n",
    "import keras \n",
    "from keras.models import Sequential\n",
    "from keras.layers import Conv2D\n",
    "from keras.layers import MaxPooling2D\n",
    "from keras.layers import Flatten\n",
    "from keras.layers import Dense"
   ]
  },
  {
   "cell_type": "code",
   "execution_count": 127,
   "metadata": {
    "collapsed": true,
    "jupyter": {
     "outputs_hidden": true
    }
   },
   "outputs": [
    {
     "name": "stdout",
     "output_type": "stream",
     "text": [
      "k =  0\n",
      "Train on 1088 samples, validate on 273 samples\n",
      "Epoch 1/64\n",
      "1088/1088 [==============================] - 6s 6ms/step - loss: 4.9663 - accuracy: 0.1682 - val_loss: 4.5742 - val_accuracy: 0.1868\n",
      "Epoch 2/64\n",
      "1088/1088 [==============================] - 2s 2ms/step - loss: 3.5316 - accuracy: 0.3943 - val_loss: 3.6104 - val_accuracy: 0.4762\n",
      "Epoch 3/64\n",
      "1088/1088 [==============================] - 2s 2ms/step - loss: 2.7644 - accuracy: 0.5607 - val_loss: 2.9478 - val_accuracy: 0.4799\n",
      "Epoch 4/64\n",
      "1088/1088 [==============================] - 2s 2ms/step - loss: 2.3167 - accuracy: 0.6287 - val_loss: 2.4539 - val_accuracy: 0.6337\n",
      "Epoch 5/64\n",
      "1088/1088 [==============================] - 2s 2ms/step - loss: 1.9400 - accuracy: 0.7114 - val_loss: 2.2493 - val_accuracy: 0.6630\n",
      "Epoch 6/64\n",
      "1088/1088 [==============================] - 2s 2ms/step - loss: 1.7002 - accuracy: 0.7647 - val_loss: 1.8765 - val_accuracy: 0.7253\n",
      "Epoch 7/64\n",
      "1088/1088 [==============================] - 2s 2ms/step - loss: 1.4994 - accuracy: 0.7996 - val_loss: 1.6295 - val_accuracy: 0.7656\n",
      "Epoch 8/64\n",
      "1088/1088 [==============================] - 2s 2ms/step - loss: 1.3343 - accuracy: 0.8309 - val_loss: 1.5934 - val_accuracy: 0.7363\n",
      "Epoch 9/64\n",
      "1088/1088 [==============================] - 2s 2ms/step - loss: 1.1764 - accuracy: 0.8713 - val_loss: 1.4704 - val_accuracy: 0.7766\n",
      "Epoch 10/64\n",
      "1088/1088 [==============================] - 2s 2ms/step - loss: 1.0530 - accuracy: 0.8833 - val_loss: 1.4718 - val_accuracy: 0.7619\n",
      "Epoch 11/64\n",
      "1088/1088 [==============================] - 2s 2ms/step - loss: 0.9747 - accuracy: 0.8925 - val_loss: 1.4260 - val_accuracy: 0.7582\n",
      "Epoch 12/64\n",
      "1088/1088 [==============================] - 2s 2ms/step - loss: 0.8824 - accuracy: 0.9136 - val_loss: 1.4717 - val_accuracy: 0.7363\n",
      "Epoch 13/64\n",
      "1088/1088 [==============================] - 2s 2ms/step - loss: 0.8279 - accuracy: 0.9072 - val_loss: 1.4501 - val_accuracy: 0.7399\n",
      "Epoch 14/64\n",
      "1088/1088 [==============================] - 3s 2ms/step - loss: 0.7409 - accuracy: 0.9311 - val_loss: 1.1815 - val_accuracy: 0.7692\n",
      "Epoch 15/64\n",
      "1088/1088 [==============================] - 2s 2ms/step - loss: 0.7197 - accuracy: 0.9283 - val_loss: 1.3533 - val_accuracy: 0.7509\n",
      "Epoch 16/64\n",
      "1088/1088 [==============================] - 2s 2ms/step - loss: 0.6574 - accuracy: 0.9246 - val_loss: 1.1188 - val_accuracy: 0.8022\n",
      "Epoch 17/64\n",
      "1088/1088 [==============================] - 3s 2ms/step - loss: 0.5916 - accuracy: 0.9467 - val_loss: 1.2343 - val_accuracy: 0.7875\n",
      "Epoch 18/64\n",
      "1088/1088 [==============================] - 2s 2ms/step - loss: 0.6161 - accuracy: 0.9292 - val_loss: 1.0401 - val_accuracy: 0.7985\n",
      "Epoch 19/64\n",
      "1088/1088 [==============================] - 2s 2ms/step - loss: 0.5451 - accuracy: 0.9485 - val_loss: 1.1852 - val_accuracy: 0.7912\n",
      "Epoch 20/64\n",
      "1088/1088 [==============================] - 3s 2ms/step - loss: 0.5322 - accuracy: 0.9449 - val_loss: 1.4475 - val_accuracy: 0.7106\n",
      "Epoch 21/64\n",
      "1088/1088 [==============================] - 2s 2ms/step - loss: 0.4827 - accuracy: 0.9513 - val_loss: 1.0930 - val_accuracy: 0.7656\n",
      "Epoch 22/64\n",
      "1088/1088 [==============================] - 2s 2ms/step - loss: 0.4797 - accuracy: 0.9485 - val_loss: 1.0845 - val_accuracy: 0.7802\n",
      "Epoch 23/64\n",
      "1088/1088 [==============================] - 2s 2ms/step - loss: 0.4702 - accuracy: 0.9513 - val_loss: 1.0853 - val_accuracy: 0.8095\n",
      "Epoch 24/64\n",
      "1088/1088 [==============================] - 2s 2ms/step - loss: 0.4305 - accuracy: 0.9614 - val_loss: 1.3050 - val_accuracy: 0.7656\n",
      "Epoch 25/64\n",
      "1088/1088 [==============================] - 2s 2ms/step - loss: 0.4121 - accuracy: 0.9559 - val_loss: 1.2668 - val_accuracy: 0.7363\n",
      "Epoch 26/64\n",
      "1088/1088 [==============================] - 3s 2ms/step - loss: 0.4320 - accuracy: 0.9504 - val_loss: 1.0655 - val_accuracy: 0.8022\n",
      "Epoch 27/64\n",
      "1088/1088 [==============================] - 2s 2ms/step - loss: 0.4288 - accuracy: 0.9531 - val_loss: 1.0212 - val_accuracy: 0.7839\n",
      "Epoch 28/64\n",
      "1088/1088 [==============================] - 3s 2ms/step - loss: 0.3790 - accuracy: 0.9642 - val_loss: 1.0033 - val_accuracy: 0.8059\n",
      "Epoch 29/64\n",
      "1088/1088 [==============================] - 2s 2ms/step - loss: 0.3569 - accuracy: 0.9669 - val_loss: 1.0247 - val_accuracy: 0.7802\n",
      "Epoch 30/64\n",
      "1088/1088 [==============================] - 2s 2ms/step - loss: 0.3782 - accuracy: 0.9623 - val_loss: 1.0655 - val_accuracy: 0.7949\n",
      "Epoch 31/64\n",
      "1088/1088 [==============================] - 2s 2ms/step - loss: 0.3789 - accuracy: 0.9596 - val_loss: 1.0758 - val_accuracy: 0.8059\n",
      "Epoch 32/64\n",
      "1088/1088 [==============================] - 2s 2ms/step - loss: 0.3507 - accuracy: 0.9642 - val_loss: 1.0499 - val_accuracy: 0.8095\n",
      "Epoch 33/64\n",
      "1088/1088 [==============================] - 3s 2ms/step - loss: 0.3437 - accuracy: 0.9596 - val_loss: 1.1860 - val_accuracy: 0.7766\n",
      "Epoch 34/64\n",
      "1088/1088 [==============================] - 2s 2ms/step - loss: 0.3504 - accuracy: 0.9531 - val_loss: 1.0839 - val_accuracy: 0.7729\n",
      "Epoch 35/64\n",
      "1088/1088 [==============================] - 2s 2ms/step - loss: 0.3399 - accuracy: 0.9688 - val_loss: 1.1033 - val_accuracy: 0.7582\n",
      "Epoch 36/64\n",
      "1088/1088 [==============================] - 3s 2ms/step - loss: 0.3530 - accuracy: 0.9504 - val_loss: 1.0280 - val_accuracy: 0.8059\n",
      "Epoch 37/64\n",
      "1088/1088 [==============================] - 2s 2ms/step - loss: 0.3293 - accuracy: 0.9697 - val_loss: 1.0336 - val_accuracy: 0.7985\n",
      "Epoch 38/64\n",
      "1088/1088 [==============================] - 2s 2ms/step - loss: 0.3138 - accuracy: 0.9669 - val_loss: 1.2018 - val_accuracy: 0.7326\n",
      "Epoch 39/64\n",
      "1088/1088 [==============================] - 2s 2ms/step - loss: 0.3237 - accuracy: 0.9605 - val_loss: 0.9193 - val_accuracy: 0.8095\n",
      "Epoch 40/64\n",
      "1088/1088 [==============================] - 2s 2ms/step - loss: 0.3075 - accuracy: 0.9669 - val_loss: 0.9951 - val_accuracy: 0.8022\n",
      "Epoch 41/64\n",
      "1088/1088 [==============================] - 2s 2ms/step - loss: 0.2952 - accuracy: 0.9632 - val_loss: 1.2438 - val_accuracy: 0.7875\n",
      "Epoch 42/64\n",
      "1088/1088 [==============================] - 2s 2ms/step - loss: 0.2876 - accuracy: 0.9724 - val_loss: 0.9058 - val_accuracy: 0.8242\n",
      "Epoch 43/64\n",
      "1088/1088 [==============================] - 2s 2ms/step - loss: 0.2771 - accuracy: 0.9761 - val_loss: 0.9402 - val_accuracy: 0.7949\n",
      "Epoch 44/64\n",
      "1088/1088 [==============================] - 3s 2ms/step - loss: 0.2880 - accuracy: 0.9678 - val_loss: 0.9863 - val_accuracy: 0.8059\n",
      "Epoch 45/64\n",
      "1088/1088 [==============================] - 2s 2ms/step - loss: 0.2791 - accuracy: 0.9660 - val_loss: 1.0047 - val_accuracy: 0.8022\n",
      "Epoch 46/64\n",
      "1088/1088 [==============================] - 3s 2ms/step - loss: 0.2756 - accuracy: 0.9715 - val_loss: 0.9350 - val_accuracy: 0.8059\n",
      "Epoch 47/64\n",
      "1088/1088 [==============================] - 2s 2ms/step - loss: 0.2959 - accuracy: 0.9651 - val_loss: 1.4022 - val_accuracy: 0.7619\n",
      "Epoch 48/64\n",
      "1088/1088 [==============================] - 2s 2ms/step - loss: 0.2999 - accuracy: 0.9577 - val_loss: 0.8940 - val_accuracy: 0.8095\n",
      "Epoch 49/64\n",
      "1088/1088 [==============================] - 2s 2ms/step - loss: 0.2322 - accuracy: 0.9798 - val_loss: 1.0734 - val_accuracy: 0.7839\n",
      "Epoch 50/64\n",
      "1088/1088 [==============================] - 2s 2ms/step - loss: 0.2772 - accuracy: 0.9577 - val_loss: 0.8742 - val_accuracy: 0.8278\n",
      "Epoch 51/64\n",
      "1088/1088 [==============================] - 3s 2ms/step - loss: 0.2690 - accuracy: 0.9651 - val_loss: 0.9975 - val_accuracy: 0.7949\n",
      "Epoch 52/64\n",
      "1088/1088 [==============================] - 3s 2ms/step - loss: 0.2513 - accuracy: 0.9706 - val_loss: 1.5024 - val_accuracy: 0.6996\n",
      "Epoch 53/64\n",
      "1088/1088 [==============================] - 2s 2ms/step - loss: 0.2642 - accuracy: 0.9688 - val_loss: 1.0077 - val_accuracy: 0.8168\n",
      "Epoch 54/64\n",
      "1088/1088 [==============================] - 2s 2ms/step - loss: 0.2411 - accuracy: 0.9789 - val_loss: 1.0464 - val_accuracy: 0.7839\n",
      "Epoch 55/64\n",
      "1088/1088 [==============================] - 2s 2ms/step - loss: 0.2640 - accuracy: 0.9660 - val_loss: 1.1373 - val_accuracy: 0.8242\n",
      "Epoch 56/64\n",
      "1088/1088 [==============================] - 2s 2ms/step - loss: 0.2503 - accuracy: 0.9715 - val_loss: 1.0690 - val_accuracy: 0.7729\n",
      "Epoch 57/64\n",
      "1088/1088 [==============================] - 2s 2ms/step - loss: 0.2653 - accuracy: 0.9715 - val_loss: 1.2813 - val_accuracy: 0.7546\n",
      "Epoch 58/64\n",
      "1088/1088 [==============================] - 2s 2ms/step - loss: 0.2644 - accuracy: 0.9669 - val_loss: 1.2222 - val_accuracy: 0.7692\n",
      "Epoch 59/64\n",
      "1088/1088 [==============================] - 3s 2ms/step - loss: 0.2614 - accuracy: 0.9678 - val_loss: 0.9168 - val_accuracy: 0.7949\n",
      "Epoch 60/64\n",
      "1088/1088 [==============================] - 2s 2ms/step - loss: 0.2687 - accuracy: 0.9614 - val_loss: 1.1253 - val_accuracy: 0.7985\n",
      "Epoch 61/64\n",
      "1088/1088 [==============================] - 2s 2ms/step - loss: 0.2735 - accuracy: 0.9642 - val_loss: 1.0416 - val_accuracy: 0.8095\n",
      "Epoch 62/64\n",
      "1088/1088 [==============================] - 3s 2ms/step - loss: 0.2537 - accuracy: 0.9678 - val_loss: 0.9056 - val_accuracy: 0.8168\n",
      "Epoch 63/64\n",
      "1088/1088 [==============================] - 3s 2ms/step - loss: 0.2505 - accuracy: 0.9688 - val_loss: 1.0134 - val_accuracy: 0.8022\n",
      "Epoch 64/64\n",
      "1088/1088 [==============================] - 3s 2ms/step - loss: 0.2213 - accuracy: 0.9789 - val_loss: 1.1448 - val_accuracy: 0.7802\n",
      "273/273 [==============================] - 0s 825us/step\n",
      "accuracy: 78.02%\n",
      "k =  1\n",
      "Train on 1089 samples, validate on 272 samples\n",
      "Epoch 1/64\n",
      "1089/1089 [==============================] - 4s 3ms/step - loss: 5.0906 - accuracy: 0.1497 - val_loss: 4.8014 - val_accuracy: 0.0919\n",
      "Epoch 2/64\n",
      "1089/1089 [==============================] - 3s 2ms/step - loss: 3.7438 - accuracy: 0.3655 - val_loss: 3.8470 - val_accuracy: 0.3860\n",
      "Epoch 3/64\n",
      "1089/1089 [==============================] - 2s 2ms/step - loss: 2.9962 - accuracy: 0.4940 - val_loss: 3.2403 - val_accuracy: 0.4375\n",
      "Epoch 4/64\n",
      "1089/1089 [==============================] - 2s 2ms/step - loss: 2.5146 - accuracy: 0.5877 - val_loss: 2.7669 - val_accuracy: 0.5000\n",
      "Epoch 5/64\n",
      "1089/1089 [==============================] - 3s 2ms/step - loss: 2.0857 - accuracy: 0.6915 - val_loss: 2.4389 - val_accuracy: 0.5846\n",
      "Epoch 6/64\n",
      "1089/1089 [==============================] - 3s 2ms/step - loss: 1.8582 - accuracy: 0.7493 - val_loss: 2.1219 - val_accuracy: 0.6324\n",
      "Epoch 7/64\n",
      "1089/1089 [==============================] - 3s 2ms/step - loss: 1.6602 - accuracy: 0.7741 - val_loss: 2.0709 - val_accuracy: 0.6287\n",
      "Epoch 8/64\n",
      "1089/1089 [==============================] - 2s 2ms/step - loss: 1.4872 - accuracy: 0.7916 - val_loss: 1.8315 - val_accuracy: 0.6765\n",
      "Epoch 9/64\n",
      "1089/1089 [==============================] - 3s 2ms/step - loss: 1.3143 - accuracy: 0.8457 - val_loss: 1.8106 - val_accuracy: 0.6691\n",
      "Epoch 10/64\n",
      "1089/1089 [==============================] - 3s 2ms/step - loss: 1.1684 - accuracy: 0.8522 - val_loss: 1.8754 - val_accuracy: 0.6544\n",
      "Epoch 11/64\n",
      "1089/1089 [==============================] - 3s 2ms/step - loss: 1.0698 - accuracy: 0.8742 - val_loss: 1.7269 - val_accuracy: 0.6875\n",
      "Epoch 12/64\n",
      "1089/1089 [==============================] - 2s 2ms/step - loss: 0.9930 - accuracy: 0.8797 - val_loss: 1.6577 - val_accuracy: 0.6985\n",
      "Epoch 13/64\n",
      "1089/1089 [==============================] - 2s 2ms/step - loss: 0.9283 - accuracy: 0.8972 - val_loss: 1.5934 - val_accuracy: 0.7059\n",
      "Epoch 14/64\n",
      "1089/1089 [==============================] - 3s 2ms/step - loss: 0.8275 - accuracy: 0.9073 - val_loss: 1.4460 - val_accuracy: 0.7353\n",
      "Epoch 15/64\n",
      "1089/1089 [==============================] - 2s 2ms/step - loss: 0.7695 - accuracy: 0.9265 - val_loss: 1.3102 - val_accuracy: 0.7941\n",
      "Epoch 16/64\n",
      "1089/1089 [==============================] - 2s 2ms/step - loss: 0.7464 - accuracy: 0.9183 - val_loss: 1.3078 - val_accuracy: 0.7721\n",
      "Epoch 17/64\n",
      "1089/1089 [==============================] - 2s 2ms/step - loss: 0.6888 - accuracy: 0.9247 - val_loss: 1.9705 - val_accuracy: 0.6287\n",
      "Epoch 18/64\n",
      "1089/1089 [==============================] - 3s 2ms/step - loss: 0.6599 - accuracy: 0.9201 - val_loss: 1.7079 - val_accuracy: 0.6691\n",
      "Epoch 19/64\n",
      "1089/1089 [==============================] - 3s 2ms/step - loss: 0.5958 - accuracy: 0.9458 - val_loss: 1.4678 - val_accuracy: 0.7206\n",
      "Epoch 20/64\n",
      "1089/1089 [==============================] - 2s 2ms/step - loss: 0.5722 - accuracy: 0.9449 - val_loss: 1.3116 - val_accuracy: 0.7206\n",
      "Epoch 21/64\n",
      "1089/1089 [==============================] - 3s 2ms/step - loss: 0.5526 - accuracy: 0.9458 - val_loss: 1.2536 - val_accuracy: 0.7610\n",
      "Epoch 22/64\n",
      "1089/1089 [==============================] - 3s 2ms/step - loss: 0.5120 - accuracy: 0.9486 - val_loss: 1.3602 - val_accuracy: 0.7610\n",
      "Epoch 23/64\n",
      "1089/1089 [==============================] - 3s 2ms/step - loss: 0.4971 - accuracy: 0.9477 - val_loss: 1.1517 - val_accuracy: 0.7647\n",
      "Epoch 24/64\n",
      "1089/1089 [==============================] - 2s 2ms/step - loss: 0.4737 - accuracy: 0.9596 - val_loss: 1.0825 - val_accuracy: 0.7868\n",
      "Epoch 25/64\n",
      "1089/1089 [==============================] - 2s 2ms/step - loss: 0.4862 - accuracy: 0.9421 - val_loss: 1.1849 - val_accuracy: 0.7757\n",
      "Epoch 26/64\n",
      "1089/1089 [==============================] - 3s 2ms/step - loss: 0.4518 - accuracy: 0.9550 - val_loss: 1.2310 - val_accuracy: 0.7353\n",
      "Epoch 27/64\n",
      "1089/1089 [==============================] - 2s 2ms/step - loss: 0.4243 - accuracy: 0.9522 - val_loss: 1.1063 - val_accuracy: 0.8015\n",
      "Epoch 28/64\n",
      "1089/1089 [==============================] - 2s 2ms/step - loss: 0.4116 - accuracy: 0.9651 - val_loss: 1.0615 - val_accuracy: 0.7794\n",
      "Epoch 29/64\n",
      "1089/1089 [==============================] - 3s 2ms/step - loss: 0.3937 - accuracy: 0.9568 - val_loss: 1.1369 - val_accuracy: 0.8051\n",
      "Epoch 30/64\n",
      "1089/1089 [==============================] - 3s 2ms/step - loss: 0.4062 - accuracy: 0.9467 - val_loss: 1.3820 - val_accuracy: 0.7463\n",
      "Epoch 31/64\n",
      "1089/1089 [==============================] - 3s 2ms/step - loss: 0.3610 - accuracy: 0.9715 - val_loss: 1.0535 - val_accuracy: 0.7794\n",
      "Epoch 32/64\n",
      "1089/1089 [==============================] - 3s 2ms/step - loss: 0.3577 - accuracy: 0.9651 - val_loss: 1.2571 - val_accuracy: 0.7426\n",
      "Epoch 33/64\n",
      "1089/1089 [==============================] - 3s 2ms/step - loss: 0.3542 - accuracy: 0.9605 - val_loss: 1.1704 - val_accuracy: 0.7684\n",
      "Epoch 34/64\n",
      "1089/1089 [==============================] - 3s 2ms/step - loss: 0.3637 - accuracy: 0.9660 - val_loss: 1.2111 - val_accuracy: 0.7684\n",
      "Epoch 35/64\n",
      "1089/1089 [==============================] - 2s 2ms/step - loss: 0.3519 - accuracy: 0.9532 - val_loss: 1.1555 - val_accuracy: 0.7684\n",
      "Epoch 36/64\n",
      "1089/1089 [==============================] - 2s 2ms/step - loss: 0.3182 - accuracy: 0.9642 - val_loss: 1.2451 - val_accuracy: 0.7904\n",
      "Epoch 37/64\n",
      "1089/1089 [==============================] - 3s 2ms/step - loss: 0.3282 - accuracy: 0.9642 - val_loss: 1.1295 - val_accuracy: 0.8051\n",
      "Epoch 38/64\n",
      "1089/1089 [==============================] - 3s 2ms/step - loss: 0.3255 - accuracy: 0.9624 - val_loss: 1.0402 - val_accuracy: 0.7941\n",
      "Epoch 39/64\n",
      "1089/1089 [==============================] - 2s 2ms/step - loss: 0.3519 - accuracy: 0.9596 - val_loss: 1.1866 - val_accuracy: 0.7868\n",
      "Epoch 40/64\n",
      "1089/1089 [==============================] - 3s 2ms/step - loss: 0.3388 - accuracy: 0.9614 - val_loss: 1.2161 - val_accuracy: 0.7831\n",
      "Epoch 41/64\n",
      "1089/1089 [==============================] - 3s 2ms/step - loss: 0.3219 - accuracy: 0.9596 - val_loss: 1.0682 - val_accuracy: 0.7904\n",
      "Epoch 42/64\n",
      "1089/1089 [==============================] - 3s 3ms/step - loss: 0.3231 - accuracy: 0.9669 - val_loss: 1.2838 - val_accuracy: 0.7757\n",
      "Epoch 43/64\n",
      "1089/1089 [==============================] - 3s 2ms/step - loss: 0.2950 - accuracy: 0.9725 - val_loss: 1.1733 - val_accuracy: 0.7684\n",
      "Epoch 44/64\n",
      "1089/1089 [==============================] - 3s 2ms/step - loss: 0.2813 - accuracy: 0.9633 - val_loss: 1.2127 - val_accuracy: 0.7831\n",
      "Epoch 45/64\n",
      "1089/1089 [==============================] - 3s 2ms/step - loss: 0.3046 - accuracy: 0.9605 - val_loss: 1.0440 - val_accuracy: 0.8235\n",
      "Epoch 46/64\n",
      "1089/1089 [==============================] - 3s 3ms/step - loss: 0.2872 - accuracy: 0.9669 - val_loss: 1.1072 - val_accuracy: 0.7794\n",
      "Epoch 47/64\n",
      "1089/1089 [==============================] - 3s 2ms/step - loss: 0.2619 - accuracy: 0.9743 - val_loss: 0.9978 - val_accuracy: 0.8272\n",
      "Epoch 48/64\n",
      "1089/1089 [==============================] - 3s 2ms/step - loss: 0.2926 - accuracy: 0.9596 - val_loss: 1.1874 - val_accuracy: 0.7831\n",
      "Epoch 49/64\n",
      "1089/1089 [==============================] - 3s 2ms/step - loss: 0.2846 - accuracy: 0.9679 - val_loss: 1.1215 - val_accuracy: 0.8015\n",
      "Epoch 50/64\n",
      "1089/1089 [==============================] - 3s 2ms/step - loss: 0.2636 - accuracy: 0.9697 - val_loss: 1.0302 - val_accuracy: 0.8088\n",
      "Epoch 51/64\n",
      "1089/1089 [==============================] - 3s 2ms/step - loss: 0.2614 - accuracy: 0.9642 - val_loss: 1.3432 - val_accuracy: 0.7794\n",
      "Epoch 52/64\n",
      "1089/1089 [==============================] - 3s 2ms/step - loss: 0.2722 - accuracy: 0.9605 - val_loss: 1.0662 - val_accuracy: 0.7831\n",
      "Epoch 53/64\n",
      "1089/1089 [==============================] - 3s 2ms/step - loss: 0.2592 - accuracy: 0.9734 - val_loss: 1.3600 - val_accuracy: 0.7831\n",
      "Epoch 54/64\n",
      "1089/1089 [==============================] - 3s 2ms/step - loss: 0.2559 - accuracy: 0.9725 - val_loss: 1.1072 - val_accuracy: 0.8125\n",
      "Epoch 55/64\n",
      "1089/1089 [==============================] - 3s 2ms/step - loss: 0.2746 - accuracy: 0.9651 - val_loss: 1.3069 - val_accuracy: 0.7353\n",
      "Epoch 56/64\n",
      "1089/1089 [==============================] - 3s 2ms/step - loss: 0.2720 - accuracy: 0.9624 - val_loss: 1.2831 - val_accuracy: 0.7537\n",
      "Epoch 57/64\n",
      "1089/1089 [==============================] - 3s 2ms/step - loss: 0.2587 - accuracy: 0.9651 - val_loss: 1.1954 - val_accuracy: 0.7684\n",
      "Epoch 58/64\n",
      "1089/1089 [==============================] - 3s 3ms/step - loss: 0.2703 - accuracy: 0.9725 - val_loss: 1.1904 - val_accuracy: 0.7794\n",
      "Epoch 59/64\n",
      "1089/1089 [==============================] - 3s 2ms/step - loss: 0.2706 - accuracy: 0.9706 - val_loss: 1.2368 - val_accuracy: 0.7794\n",
      "Epoch 60/64\n",
      "1089/1089 [==============================] - 3s 2ms/step - loss: 0.2452 - accuracy: 0.9715 - val_loss: 1.1425 - val_accuracy: 0.7941\n",
      "Epoch 61/64\n",
      "1089/1089 [==============================] - 3s 2ms/step - loss: 0.2473 - accuracy: 0.9688 - val_loss: 0.9496 - val_accuracy: 0.8272\n",
      "Epoch 62/64\n",
      "1089/1089 [==============================] - 3s 2ms/step - loss: 0.2408 - accuracy: 0.9697 - val_loss: 1.2257 - val_accuracy: 0.7574\n",
      "Epoch 63/64\n",
      "1089/1089 [==============================] - 3s 2ms/step - loss: 0.2152 - accuracy: 0.9770 - val_loss: 1.0759 - val_accuracy: 0.8088\n",
      "Epoch 64/64\n",
      "1089/1089 [==============================] - 2s 2ms/step - loss: 0.2467 - accuracy: 0.9660 - val_loss: 0.9813 - val_accuracy: 0.8382\n",
      "272/272 [==============================] - 0s 857us/step\n",
      "accuracy: 83.82%\n",
      "k =  2\n",
      "Train on 1089 samples, validate on 272 samples\n",
      "Epoch 1/64\n",
      "1089/1089 [==============================] - 4s 3ms/step - loss: 5.0945 - accuracy: 0.1607 - val_loss: 4.7485 - val_accuracy: 0.1471\n",
      "Epoch 2/64\n",
      "1089/1089 [==============================] - 3s 2ms/step - loss: 3.7130 - accuracy: 0.3691 - val_loss: 3.9274 - val_accuracy: 0.4154\n",
      "Epoch 3/64\n",
      "1089/1089 [==============================] - 3s 2ms/step - loss: 2.9447 - accuracy: 0.5069 - val_loss: 3.3220 - val_accuracy: 0.5515\n",
      "Epoch 4/64\n",
      "1089/1089 [==============================] - 3s 2ms/step - loss: 2.4164 - accuracy: 0.6437 - val_loss: 3.0959 - val_accuracy: 0.3346\n",
      "Epoch 5/64\n",
      "1089/1089 [==============================] - 3s 2ms/step - loss: 2.0323 - accuracy: 0.7153 - val_loss: 2.5726 - val_accuracy: 0.5956\n",
      "Epoch 6/64\n",
      "1089/1089 [==============================] - 3s 2ms/step - loss: 1.8361 - accuracy: 0.7420 - val_loss: 2.1372 - val_accuracy: 0.6765\n",
      "Epoch 7/64\n",
      "1089/1089 [==============================] - 3s 2ms/step - loss: 1.6100 - accuracy: 0.7971 - val_loss: 2.1612 - val_accuracy: 0.6360\n",
      "Epoch 8/64\n",
      "1089/1089 [==============================] - 3s 2ms/step - loss: 1.3808 - accuracy: 0.8393 - val_loss: 1.8961 - val_accuracy: 0.7279\n",
      "Epoch 9/64\n",
      "1089/1089 [==============================] - 3s 2ms/step - loss: 1.2463 - accuracy: 0.8595 - val_loss: 1.7067 - val_accuracy: 0.7353\n",
      "Epoch 10/64\n",
      "1089/1089 [==============================] - 3s 2ms/step - loss: 1.1372 - accuracy: 0.8797 - val_loss: 1.7399 - val_accuracy: 0.7316\n",
      "Epoch 11/64\n",
      "1089/1089 [==============================] - 3s 2ms/step - loss: 1.0178 - accuracy: 0.9036 - val_loss: 1.6125 - val_accuracy: 0.7463\n",
      "Epoch 12/64\n",
      "1089/1089 [==============================] - 3s 2ms/step - loss: 0.9408 - accuracy: 0.9017 - val_loss: 1.6470 - val_accuracy: 0.7206\n",
      "Epoch 13/64\n",
      "1089/1089 [==============================] - 3s 2ms/step - loss: 0.8655 - accuracy: 0.9210 - val_loss: 1.5006 - val_accuracy: 0.7537\n",
      "Epoch 14/64\n",
      "1089/1089 [==============================] - 3s 2ms/step - loss: 0.7724 - accuracy: 0.9265 - val_loss: 1.3213 - val_accuracy: 0.7537\n",
      "Epoch 15/64\n",
      "1089/1089 [==============================] - 3s 2ms/step - loss: 0.7593 - accuracy: 0.9210 - val_loss: 1.4624 - val_accuracy: 0.7426\n",
      "Epoch 16/64\n",
      "1089/1089 [==============================] - 3s 2ms/step - loss: 0.7009 - accuracy: 0.9275 - val_loss: 1.2603 - val_accuracy: 0.7757\n",
      "Epoch 17/64\n",
      "1089/1089 [==============================] - 3s 2ms/step - loss: 0.6300 - accuracy: 0.9394 - val_loss: 1.6589 - val_accuracy: 0.7022\n",
      "Epoch 18/64\n",
      "1089/1089 [==============================] - 3s 2ms/step - loss: 0.5859 - accuracy: 0.9431 - val_loss: 1.3506 - val_accuracy: 0.7574\n",
      "Epoch 19/64\n",
      "1089/1089 [==============================] - 3s 2ms/step - loss: 0.5677 - accuracy: 0.9449 - val_loss: 1.3821 - val_accuracy: 0.7610\n",
      "Epoch 20/64\n",
      "1089/1089 [==============================] - 3s 2ms/step - loss: 0.5355 - accuracy: 0.9467 - val_loss: 1.2843 - val_accuracy: 0.7757\n",
      "Epoch 21/64\n",
      "1089/1089 [==============================] - 3s 2ms/step - loss: 0.4854 - accuracy: 0.9578 - val_loss: 1.3365 - val_accuracy: 0.7721\n",
      "Epoch 22/64\n",
      "1089/1089 [==============================] - 3s 2ms/step - loss: 0.5240 - accuracy: 0.9366 - val_loss: 1.1280 - val_accuracy: 0.7941\n",
      "Epoch 23/64\n",
      "1089/1089 [==============================] - 3s 2ms/step - loss: 0.4526 - accuracy: 0.9532 - val_loss: 1.2302 - val_accuracy: 0.7794\n",
      "Epoch 24/64\n",
      "1089/1089 [==============================] - 3s 2ms/step - loss: 0.4534 - accuracy: 0.9522 - val_loss: 1.2679 - val_accuracy: 0.7794\n",
      "Epoch 25/64\n",
      "1089/1089 [==============================] - 3s 2ms/step - loss: 0.4351 - accuracy: 0.9568 - val_loss: 1.5802 - val_accuracy: 0.7132\n",
      "Epoch 26/64\n",
      "1089/1089 [==============================] - 3s 2ms/step - loss: 0.4017 - accuracy: 0.9642 - val_loss: 1.1669 - val_accuracy: 0.8015\n",
      "Epoch 27/64\n",
      "1089/1089 [==============================] - 3s 2ms/step - loss: 0.4084 - accuracy: 0.9550 - val_loss: 1.3907 - val_accuracy: 0.7537\n",
      "Epoch 28/64\n",
      "1089/1089 [==============================] - 3s 2ms/step - loss: 0.4099 - accuracy: 0.9532 - val_loss: 1.4266 - val_accuracy: 0.7610\n",
      "Epoch 29/64\n",
      "1089/1089 [==============================] - 3s 2ms/step - loss: 0.3836 - accuracy: 0.9587 - val_loss: 1.4259 - val_accuracy: 0.7316\n",
      "Epoch 30/64\n",
      "1089/1089 [==============================] - 3s 2ms/step - loss: 0.3807 - accuracy: 0.9605 - val_loss: 1.1002 - val_accuracy: 0.7868\n",
      "Epoch 31/64\n",
      "1089/1089 [==============================] - 3s 2ms/step - loss: 0.3504 - accuracy: 0.9660 - val_loss: 1.1112 - val_accuracy: 0.7831\n",
      "Epoch 32/64\n",
      "1089/1089 [==============================] - 3s 2ms/step - loss: 0.3344 - accuracy: 0.9688 - val_loss: 1.1907 - val_accuracy: 0.8015\n",
      "Epoch 33/64\n",
      "1089/1089 [==============================] - 3s 2ms/step - loss: 0.3286 - accuracy: 0.9642 - val_loss: 1.0552 - val_accuracy: 0.7831\n",
      "Epoch 34/64\n",
      "1089/1089 [==============================] - 3s 2ms/step - loss: 0.3306 - accuracy: 0.9633 - val_loss: 1.2647 - val_accuracy: 0.7574\n",
      "Epoch 35/64\n",
      "1089/1089 [==============================] - 3s 2ms/step - loss: 0.3097 - accuracy: 0.9697 - val_loss: 1.4189 - val_accuracy: 0.7279\n",
      "Epoch 36/64\n",
      "1089/1089 [==============================] - 3s 2ms/step - loss: 0.3055 - accuracy: 0.9642 - val_loss: 0.8813 - val_accuracy: 0.8199\n",
      "Epoch 37/64\n",
      "1089/1089 [==============================] - 3s 2ms/step - loss: 0.2979 - accuracy: 0.9660 - val_loss: 1.1843 - val_accuracy: 0.7831\n",
      "Epoch 38/64\n",
      "1089/1089 [==============================] - 3s 2ms/step - loss: 0.3002 - accuracy: 0.9642 - val_loss: 1.7364 - val_accuracy: 0.6691\n",
      "Epoch 39/64\n",
      "1089/1089 [==============================] - 3s 3ms/step - loss: 0.2867 - accuracy: 0.9669 - val_loss: 1.2735 - val_accuracy: 0.7500\n",
      "Epoch 40/64\n",
      "1089/1089 [==============================] - 3s 2ms/step - loss: 0.2939 - accuracy: 0.9734 - val_loss: 1.2913 - val_accuracy: 0.7721\n",
      "Epoch 41/64\n",
      "1089/1089 [==============================] - 3s 2ms/step - loss: 0.2935 - accuracy: 0.9559 - val_loss: 1.5230 - val_accuracy: 0.7353\n",
      "Epoch 42/64\n",
      "1089/1089 [==============================] - 3s 2ms/step - loss: 0.2730 - accuracy: 0.9679 - val_loss: 1.2556 - val_accuracy: 0.7206\n",
      "Epoch 43/64\n",
      "1089/1089 [==============================] - 3s 3ms/step - loss: 0.2930 - accuracy: 0.9633 - val_loss: 1.2365 - val_accuracy: 0.7684\n",
      "Epoch 44/64\n",
      "1089/1089 [==============================] - 3s 3ms/step - loss: 0.2492 - accuracy: 0.9798 - val_loss: 1.3611 - val_accuracy: 0.7794\n",
      "Epoch 45/64\n",
      "1089/1089 [==============================] - 3s 2ms/step - loss: 0.2782 - accuracy: 0.9642 - val_loss: 1.1247 - val_accuracy: 0.7684\n",
      "Epoch 46/64\n",
      "1089/1089 [==============================] - 3s 3ms/step - loss: 0.2406 - accuracy: 0.9807 - val_loss: 1.1231 - val_accuracy: 0.7978\n",
      "Epoch 47/64\n",
      "1089/1089 [==============================] - 3s 3ms/step - loss: 0.2684 - accuracy: 0.9706 - val_loss: 1.3737 - val_accuracy: 0.7868\n",
      "Epoch 48/64\n",
      "1089/1089 [==============================] - 3s 2ms/step - loss: 0.2406 - accuracy: 0.9697 - val_loss: 1.1680 - val_accuracy: 0.7868\n",
      "Epoch 49/64\n",
      "1089/1089 [==============================] - 3s 2ms/step - loss: 0.2748 - accuracy: 0.9660 - val_loss: 1.1439 - val_accuracy: 0.7868\n",
      "Epoch 50/64\n",
      "1089/1089 [==============================] - 3s 2ms/step - loss: 0.2669 - accuracy: 0.9651 - val_loss: 1.0120 - val_accuracy: 0.8199\n",
      "Epoch 51/64\n",
      "1089/1089 [==============================] - 3s 2ms/step - loss: 0.2457 - accuracy: 0.9706 - val_loss: 1.3071 - val_accuracy: 0.7904\n",
      "Epoch 52/64\n",
      "1089/1089 [==============================] - 3s 2ms/step - loss: 0.2379 - accuracy: 0.9789 - val_loss: 1.0547 - val_accuracy: 0.8015\n",
      "Epoch 53/64\n",
      "1089/1089 [==============================] - 3s 2ms/step - loss: 0.2611 - accuracy: 0.9697 - val_loss: 1.0340 - val_accuracy: 0.8088\n",
      "Epoch 54/64\n",
      "1089/1089 [==============================] - 3s 2ms/step - loss: 0.2626 - accuracy: 0.9624 - val_loss: 1.0400 - val_accuracy: 0.7941\n",
      "Epoch 55/64\n",
      "1089/1089 [==============================] - 3s 2ms/step - loss: 0.2535 - accuracy: 0.9651 - val_loss: 1.0864 - val_accuracy: 0.8125\n",
      "Epoch 56/64\n",
      "1089/1089 [==============================] - 3s 2ms/step - loss: 0.2149 - accuracy: 0.9844 - val_loss: 1.1578 - val_accuracy: 0.8088\n",
      "Epoch 57/64\n",
      "1089/1089 [==============================] - 3s 2ms/step - loss: 0.2589 - accuracy: 0.9669 - val_loss: 1.1065 - val_accuracy: 0.7978\n",
      "Epoch 58/64\n",
      "1089/1089 [==============================] - 3s 2ms/step - loss: 0.2374 - accuracy: 0.9679 - val_loss: 1.1786 - val_accuracy: 0.8088\n",
      "Epoch 59/64\n",
      "1089/1089 [==============================] - 3s 2ms/step - loss: 0.2230 - accuracy: 0.9770 - val_loss: 1.0499 - val_accuracy: 0.7610\n",
      "Epoch 60/64\n",
      "1089/1089 [==============================] - 3s 2ms/step - loss: 0.1992 - accuracy: 0.9835 - val_loss: 1.1751 - val_accuracy: 0.7904\n",
      "Epoch 61/64\n",
      "1089/1089 [==============================] - 3s 2ms/step - loss: 0.2428 - accuracy: 0.9633 - val_loss: 1.2048 - val_accuracy: 0.7721\n",
      "Epoch 62/64\n",
      "1089/1089 [==============================] - 3s 2ms/step - loss: 0.2361 - accuracy: 0.9734 - val_loss: 1.3089 - val_accuracy: 0.7794\n",
      "Epoch 63/64\n",
      "1089/1089 [==============================] - 3s 2ms/step - loss: 0.2188 - accuracy: 0.9761 - val_loss: 1.0704 - val_accuracy: 0.7941\n",
      "Epoch 64/64\n",
      "1089/1089 [==============================] - 3s 2ms/step - loss: 0.2351 - accuracy: 0.9697 - val_loss: 1.0452 - val_accuracy: 0.8125\n",
      "272/272 [==============================] - 0s 836us/step\n",
      "accuracy: 81.25%\n",
      "k =  3\n",
      "Train on 1089 samples, validate on 272 samples\n",
      "Epoch 1/64\n",
      "1089/1089 [==============================] - 4s 4ms/step - loss: 5.1110 - accuracy: 0.1506 - val_loss: 4.9891 - val_accuracy: 0.0772\n",
      "Epoch 2/64\n",
      "1089/1089 [==============================] - 3s 2ms/step - loss: 3.8302 - accuracy: 0.3572 - val_loss: 4.1224 - val_accuracy: 0.2574\n",
      "Epoch 3/64\n",
      "1089/1089 [==============================] - 3s 2ms/step - loss: 3.0711 - accuracy: 0.4949 - val_loss: 3.4424 - val_accuracy: 0.4963\n",
      "Epoch 4/64\n",
      "1089/1089 [==============================] - 3s 2ms/step - loss: 2.5369 - accuracy: 0.6051 - val_loss: 2.8922 - val_accuracy: 0.5588\n",
      "Epoch 5/64\n",
      "1089/1089 [==============================] - 3s 2ms/step - loss: 2.1770 - accuracy: 0.6823 - val_loss: 2.6472 - val_accuracy: 0.5000\n",
      "Epoch 6/64\n",
      "1089/1089 [==============================] - 3s 2ms/step - loss: 1.8905 - accuracy: 0.7291 - val_loss: 2.4216 - val_accuracy: 0.5772\n",
      "Epoch 7/64\n",
      "1089/1089 [==============================] - 3s 2ms/step - loss: 1.6528 - accuracy: 0.7805 - val_loss: 2.2432 - val_accuracy: 0.5772\n",
      "Epoch 8/64\n",
      "1089/1089 [==============================] - 3s 2ms/step - loss: 1.4521 - accuracy: 0.8292 - val_loss: 2.1562 - val_accuracy: 0.5772\n",
      "Epoch 9/64\n",
      "1089/1089 [==============================] - 3s 2ms/step - loss: 1.2967 - accuracy: 0.8549 - val_loss: 1.7255 - val_accuracy: 0.7169\n",
      "Epoch 10/64\n",
      "1089/1089 [==============================] - 3s 2ms/step - loss: 1.1740 - accuracy: 0.8641 - val_loss: 1.9421 - val_accuracy: 0.6654\n",
      "Epoch 11/64\n",
      "1089/1089 [==============================] - 3s 3ms/step - loss: 1.0786 - accuracy: 0.8834 - val_loss: 1.5747 - val_accuracy: 0.7537\n",
      "Epoch 12/64\n",
      "1089/1089 [==============================] - 3s 2ms/step - loss: 0.9584 - accuracy: 0.9100 - val_loss: 1.9587 - val_accuracy: 0.6360\n",
      "Epoch 13/64\n",
      "1089/1089 [==============================] - 3s 2ms/step - loss: 0.9006 - accuracy: 0.9008 - val_loss: 1.6439 - val_accuracy: 0.6912\n",
      "Epoch 14/64\n",
      "1089/1089 [==============================] - 3s 2ms/step - loss: 0.8157 - accuracy: 0.9229 - val_loss: 1.4529 - val_accuracy: 0.7279\n",
      "Epoch 15/64\n",
      "1089/1089 [==============================] - 3s 2ms/step - loss: 0.7582 - accuracy: 0.9256 - val_loss: 1.7002 - val_accuracy: 0.6654\n",
      "Epoch 16/64\n",
      "1089/1089 [==============================] - 3s 2ms/step - loss: 0.6982 - accuracy: 0.9385 - val_loss: 1.3133 - val_accuracy: 0.7574\n",
      "Epoch 17/64\n",
      "1089/1089 [==============================] - 3s 2ms/step - loss: 0.6748 - accuracy: 0.9348 - val_loss: 1.3694 - val_accuracy: 0.7390\n",
      "Epoch 18/64\n",
      "1089/1089 [==============================] - 3s 2ms/step - loss: 0.6024 - accuracy: 0.9458 - val_loss: 1.7456 - val_accuracy: 0.6544\n",
      "Epoch 19/64\n",
      "1089/1089 [==============================] - 3s 3ms/step - loss: 0.6025 - accuracy: 0.9339 - val_loss: 1.3373 - val_accuracy: 0.7390\n",
      "Epoch 20/64\n",
      "1089/1089 [==============================] - 3s 2ms/step - loss: 0.5509 - accuracy: 0.9449 - val_loss: 1.1996 - val_accuracy: 0.7757\n",
      "Epoch 21/64\n",
      "1089/1089 [==============================] - 3s 3ms/step - loss: 0.5524 - accuracy: 0.9440 - val_loss: 1.2514 - val_accuracy: 0.7500\n",
      "Epoch 22/64\n",
      "1089/1089 [==============================] - 3s 3ms/step - loss: 0.5119 - accuracy: 0.9421 - val_loss: 1.2958 - val_accuracy: 0.7426\n",
      "Epoch 23/64\n",
      "1089/1089 [==============================] - 3s 3ms/step - loss: 0.4921 - accuracy: 0.9504 - val_loss: 1.2984 - val_accuracy: 0.7537\n",
      "Epoch 24/64\n",
      "1089/1089 [==============================] - 3s 3ms/step - loss: 0.4977 - accuracy: 0.9431 - val_loss: 1.1270 - val_accuracy: 0.8015\n",
      "Epoch 25/64\n",
      "1089/1089 [==============================] - 3s 2ms/step - loss: 0.4512 - accuracy: 0.9477 - val_loss: 1.9209 - val_accuracy: 0.6029\n",
      "Epoch 26/64\n",
      "1089/1089 [==============================] - 3s 2ms/step - loss: 0.4308 - accuracy: 0.9532 - val_loss: 1.5803 - val_accuracy: 0.6875\n",
      "Epoch 27/64\n",
      "1089/1089 [==============================] - 3s 3ms/step - loss: 0.4254 - accuracy: 0.9477 - val_loss: 1.6786 - val_accuracy: 0.7022\n",
      "Epoch 28/64\n",
      "1089/1089 [==============================] - 3s 2ms/step - loss: 0.4256 - accuracy: 0.9513 - val_loss: 1.7754 - val_accuracy: 0.6397\n",
      "Epoch 29/64\n",
      "1089/1089 [==============================] - 3s 2ms/step - loss: 0.3839 - accuracy: 0.9624 - val_loss: 1.5957 - val_accuracy: 0.6691\n",
      "Epoch 30/64\n",
      "1089/1089 [==============================] - 3s 2ms/step - loss: 0.3904 - accuracy: 0.9596 - val_loss: 1.1420 - val_accuracy: 0.7904\n",
      "Epoch 31/64\n",
      "1089/1089 [==============================] - 3s 2ms/step - loss: 0.3712 - accuracy: 0.9651 - val_loss: 1.1309 - val_accuracy: 0.7868\n",
      "Epoch 32/64\n",
      "1089/1089 [==============================] - 3s 2ms/step - loss: 0.3788 - accuracy: 0.9578 - val_loss: 1.1205 - val_accuracy: 0.7978\n",
      "Epoch 33/64\n",
      "1089/1089 [==============================] - 3s 2ms/step - loss: 0.3712 - accuracy: 0.9568 - val_loss: 1.5123 - val_accuracy: 0.7132\n",
      "Epoch 34/64\n",
      "1089/1089 [==============================] - 3s 3ms/step - loss: 0.3625 - accuracy: 0.9596 - val_loss: 1.1015 - val_accuracy: 0.7794\n",
      "Epoch 35/64\n",
      "1089/1089 [==============================] - 3s 2ms/step - loss: 0.3328 - accuracy: 0.9752 - val_loss: 1.1467 - val_accuracy: 0.7721\n",
      "Epoch 36/64\n",
      "1089/1089 [==============================] - 3s 3ms/step - loss: 0.3659 - accuracy: 0.9550 - val_loss: 0.8823 - val_accuracy: 0.8309\n",
      "Epoch 37/64\n",
      "1089/1089 [==============================] - 3s 2ms/step - loss: 0.3449 - accuracy: 0.9605 - val_loss: 1.0963 - val_accuracy: 0.7794\n",
      "Epoch 38/64\n",
      "1089/1089 [==============================] - 3s 2ms/step - loss: 0.3258 - accuracy: 0.9624 - val_loss: 1.0241 - val_accuracy: 0.8309\n",
      "Epoch 39/64\n",
      "1089/1089 [==============================] - 3s 2ms/step - loss: 0.3471 - accuracy: 0.9578 - val_loss: 1.0345 - val_accuracy: 0.7647\n",
      "Epoch 40/64\n",
      "1089/1089 [==============================] - 3s 2ms/step - loss: 0.3009 - accuracy: 0.9706 - val_loss: 1.5731 - val_accuracy: 0.6875\n",
      "Epoch 41/64\n",
      "1089/1089 [==============================] - 3s 2ms/step - loss: 0.3058 - accuracy: 0.9642 - val_loss: 0.9081 - val_accuracy: 0.8088\n",
      "Epoch 42/64\n",
      "1089/1089 [==============================] - 3s 2ms/step - loss: 0.3257 - accuracy: 0.9559 - val_loss: 0.8909 - val_accuracy: 0.8382\n",
      "Epoch 43/64\n",
      "1089/1089 [==============================] - 3s 2ms/step - loss: 0.3058 - accuracy: 0.9642 - val_loss: 1.4847 - val_accuracy: 0.7426\n",
      "Epoch 44/64\n",
      "1089/1089 [==============================] - 3s 2ms/step - loss: 0.3065 - accuracy: 0.9651 - val_loss: 1.4100 - val_accuracy: 0.7243\n",
      "Epoch 45/64\n",
      "1089/1089 [==============================] - 3s 2ms/step - loss: 0.3210 - accuracy: 0.9578 - val_loss: 1.2014 - val_accuracy: 0.7316\n",
      "Epoch 46/64\n",
      "1089/1089 [==============================] - 3s 2ms/step - loss: 0.3114 - accuracy: 0.9660 - val_loss: 1.2992 - val_accuracy: 0.7390\n",
      "Epoch 47/64\n",
      "1089/1089 [==============================] - 3s 2ms/step - loss: 0.2934 - accuracy: 0.9642 - val_loss: 0.9117 - val_accuracy: 0.8088\n",
      "Epoch 48/64\n",
      "1089/1089 [==============================] - 3s 2ms/step - loss: 0.2933 - accuracy: 0.9715 - val_loss: 1.0797 - val_accuracy: 0.7904\n",
      "Epoch 49/64\n",
      "1089/1089 [==============================] - 3s 2ms/step - loss: 0.2752 - accuracy: 0.9688 - val_loss: 1.2077 - val_accuracy: 0.7647\n",
      "Epoch 50/64\n",
      "1089/1089 [==============================] - 3s 2ms/step - loss: 0.2603 - accuracy: 0.9734 - val_loss: 1.3150 - val_accuracy: 0.7500\n",
      "Epoch 51/64\n",
      "1089/1089 [==============================] - 3s 2ms/step - loss: 0.2655 - accuracy: 0.9697 - val_loss: 0.9807 - val_accuracy: 0.7978\n",
      "Epoch 52/64\n",
      "1089/1089 [==============================] - 3s 2ms/step - loss: 0.2964 - accuracy: 0.9660 - val_loss: 0.9133 - val_accuracy: 0.8015\n",
      "Epoch 53/64\n",
      "1089/1089 [==============================] - 3s 2ms/step - loss: 0.2695 - accuracy: 0.9669 - val_loss: 0.8571 - val_accuracy: 0.8309\n",
      "Epoch 54/64\n",
      "1089/1089 [==============================] - 3s 2ms/step - loss: 0.2641 - accuracy: 0.9660 - val_loss: 1.1214 - val_accuracy: 0.8015\n",
      "Epoch 55/64\n",
      "1089/1089 [==============================] - 3s 2ms/step - loss: 0.2684 - accuracy: 0.9688 - val_loss: 0.9154 - val_accuracy: 0.8382\n",
      "Epoch 56/64\n",
      "1089/1089 [==============================] - 3s 2ms/step - loss: 0.2462 - accuracy: 0.9761 - val_loss: 0.9951 - val_accuracy: 0.8015\n",
      "Epoch 57/64\n",
      "1089/1089 [==============================] - 3s 2ms/step - loss: 0.2664 - accuracy: 0.9660 - val_loss: 1.1397 - val_accuracy: 0.7243\n",
      "Epoch 58/64\n",
      "1089/1089 [==============================] - 3s 3ms/step - loss: 0.2723 - accuracy: 0.9660 - val_loss: 0.9797 - val_accuracy: 0.7868\n",
      "Epoch 59/64\n",
      "1089/1089 [==============================] - 3s 2ms/step - loss: 0.2237 - accuracy: 0.9761 - val_loss: 1.1167 - val_accuracy: 0.7684\n",
      "Epoch 60/64\n",
      "1089/1089 [==============================] - 3s 2ms/step - loss: 0.2231 - accuracy: 0.9752 - val_loss: 0.9758 - val_accuracy: 0.8051\n",
      "Epoch 61/64\n",
      "1089/1089 [==============================] - 3s 2ms/step - loss: 0.2427 - accuracy: 0.9669 - val_loss: 0.9203 - val_accuracy: 0.8088\n",
      "Epoch 62/64\n",
      "1089/1089 [==============================] - 3s 2ms/step - loss: 0.2280 - accuracy: 0.9770 - val_loss: 0.9157 - val_accuracy: 0.7941\n",
      "Epoch 63/64\n",
      "1089/1089 [==============================] - 3s 2ms/step - loss: 0.2468 - accuracy: 0.9679 - val_loss: 1.2533 - val_accuracy: 0.7684\n",
      "Epoch 64/64\n",
      "1089/1089 [==============================] - 3s 3ms/step - loss: 0.2300 - accuracy: 0.9715 - val_loss: 0.9532 - val_accuracy: 0.8199\n",
      "272/272 [==============================] - 0s 915us/step\n",
      "accuracy: 81.99%\n",
      "k =  4\n",
      "Train on 1089 samples, validate on 272 samples\n",
      "Epoch 1/64\n",
      "1089/1089 [==============================] - 4s 3ms/step - loss: 5.0213 - accuracy: 0.1791 - val_loss: 4.8649 - val_accuracy: 0.1066\n",
      "Epoch 2/64\n",
      "1089/1089 [==============================] - 3s 2ms/step - loss: 3.6861 - accuracy: 0.3994 - val_loss: 3.8777 - val_accuracy: 0.3566\n",
      "Epoch 3/64\n",
      "1089/1089 [==============================] - 3s 2ms/step - loss: 2.9228 - accuracy: 0.5445 - val_loss: 3.3056 - val_accuracy: 0.4449\n",
      "Epoch 4/64\n",
      "1089/1089 [==============================] - 3s 2ms/step - loss: 2.3996 - accuracy: 0.6529 - val_loss: 2.5787 - val_accuracy: 0.6213\n",
      "Epoch 5/64\n",
      "1089/1089 [==============================] - 3s 2ms/step - loss: 2.0792 - accuracy: 0.7071 - val_loss: 2.2880 - val_accuracy: 0.6654\n",
      "Epoch 6/64\n",
      "1089/1089 [==============================] - 3s 2ms/step - loss: 1.7864 - accuracy: 0.7567 - val_loss: 2.2125 - val_accuracy: 0.6471\n",
      "Epoch 7/64\n",
      "1089/1089 [==============================] - 3s 2ms/step - loss: 1.5535 - accuracy: 0.8118 - val_loss: 1.9974 - val_accuracy: 0.6728\n",
      "Epoch 8/64\n",
      "1089/1089 [==============================] - 3s 2ms/step - loss: 1.3872 - accuracy: 0.8476 - val_loss: 1.7826 - val_accuracy: 0.7132\n",
      "Epoch 9/64\n",
      "1089/1089 [==============================] - 3s 2ms/step - loss: 1.2272 - accuracy: 0.8549 - val_loss: 1.5660 - val_accuracy: 0.7647\n",
      "Epoch 10/64\n",
      "1089/1089 [==============================] - 3s 2ms/step - loss: 1.1006 - accuracy: 0.8733 - val_loss: 2.0138 - val_accuracy: 0.6213\n",
      "Epoch 11/64\n",
      "1089/1089 [==============================] - 3s 2ms/step - loss: 1.0257 - accuracy: 0.8889 - val_loss: 1.5706 - val_accuracy: 0.7169\n",
      "Epoch 12/64\n",
      "1089/1089 [==============================] - 3s 2ms/step - loss: 0.8966 - accuracy: 0.9201 - val_loss: 1.6862 - val_accuracy: 0.6912\n",
      "Epoch 13/64\n",
      "1089/1089 [==============================] - 3s 2ms/step - loss: 0.8480 - accuracy: 0.9174 - val_loss: 1.4635 - val_accuracy: 0.7353\n",
      "Epoch 14/64\n",
      "1089/1089 [==============================] - 3s 2ms/step - loss: 0.7659 - accuracy: 0.9284 - val_loss: 1.3014 - val_accuracy: 0.7904\n",
      "Epoch 15/64\n",
      "1089/1089 [==============================] - 3s 2ms/step - loss: 0.6889 - accuracy: 0.9366 - val_loss: 1.2450 - val_accuracy: 0.8015\n",
      "Epoch 16/64\n",
      "1089/1089 [==============================] - 3s 3ms/step - loss: 0.6799 - accuracy: 0.9339 - val_loss: 1.1510 - val_accuracy: 0.8162\n",
      "Epoch 17/64\n",
      "1089/1089 [==============================] - 3s 2ms/step - loss: 0.6259 - accuracy: 0.9330 - val_loss: 1.4540 - val_accuracy: 0.7243\n",
      "Epoch 18/64\n",
      "1089/1089 [==============================] - 3s 2ms/step - loss: 0.5659 - accuracy: 0.9477 - val_loss: 1.4502 - val_accuracy: 0.7463\n",
      "Epoch 19/64\n",
      "1089/1089 [==============================] - 3s 2ms/step - loss: 0.5410 - accuracy: 0.9550 - val_loss: 1.2322 - val_accuracy: 0.7757\n",
      "Epoch 20/64\n",
      "1089/1089 [==============================] - 3s 2ms/step - loss: 0.5115 - accuracy: 0.9596 - val_loss: 1.9057 - val_accuracy: 0.6471\n",
      "Epoch 21/64\n",
      "1089/1089 [==============================] - 3s 2ms/step - loss: 0.4860 - accuracy: 0.9486 - val_loss: 1.2081 - val_accuracy: 0.7610\n",
      "Epoch 22/64\n",
      "1089/1089 [==============================] - 3s 2ms/step - loss: 0.4801 - accuracy: 0.9559 - val_loss: 1.1449 - val_accuracy: 0.8051\n",
      "Epoch 23/64\n",
      "1089/1089 [==============================] - 3s 2ms/step - loss: 0.4475 - accuracy: 0.9504 - val_loss: 1.0909 - val_accuracy: 0.8015\n",
      "Epoch 24/64\n",
      "1089/1089 [==============================] - 3s 2ms/step - loss: 0.4174 - accuracy: 0.9669 - val_loss: 1.0017 - val_accuracy: 0.8199\n",
      "Epoch 25/64\n",
      "1089/1089 [==============================] - 3s 2ms/step - loss: 0.4306 - accuracy: 0.9486 - val_loss: 1.0599 - val_accuracy: 0.7831\n",
      "Epoch 26/64\n",
      "1089/1089 [==============================] - 3s 2ms/step - loss: 0.4034 - accuracy: 0.9541 - val_loss: 1.0365 - val_accuracy: 0.7941\n",
      "Epoch 27/64\n",
      "1089/1089 [==============================] - 3s 2ms/step - loss: 0.3760 - accuracy: 0.9624 - val_loss: 1.2464 - val_accuracy: 0.7794\n",
      "Epoch 28/64\n",
      "1089/1089 [==============================] - 3s 2ms/step - loss: 0.3894 - accuracy: 0.9532 - val_loss: 1.3168 - val_accuracy: 0.7721\n",
      "Epoch 29/64\n",
      "1089/1089 [==============================] - 3s 2ms/step - loss: 0.3494 - accuracy: 0.9688 - val_loss: 1.4454 - val_accuracy: 0.7206\n",
      "Epoch 30/64\n",
      "1089/1089 [==============================] - 3s 2ms/step - loss: 0.3406 - accuracy: 0.9660 - val_loss: 1.0695 - val_accuracy: 0.7941\n",
      "Epoch 31/64\n",
      "1089/1089 [==============================] - 3s 2ms/step - loss: 0.3501 - accuracy: 0.9614 - val_loss: 1.1300 - val_accuracy: 0.7831\n",
      "Epoch 32/64\n",
      "1089/1089 [==============================] - 3s 2ms/step - loss: 0.3492 - accuracy: 0.9688 - val_loss: 1.1874 - val_accuracy: 0.7647\n",
      "Epoch 33/64\n",
      "1089/1089 [==============================] - 3s 2ms/step - loss: 0.3180 - accuracy: 0.9679 - val_loss: 1.0201 - val_accuracy: 0.7904\n",
      "Epoch 34/64\n",
      "1089/1089 [==============================] - 3s 2ms/step - loss: 0.3203 - accuracy: 0.9706 - val_loss: 1.1592 - val_accuracy: 0.7904\n",
      "Epoch 35/64\n",
      "1089/1089 [==============================] - 3s 2ms/step - loss: 0.3114 - accuracy: 0.9688 - val_loss: 1.1003 - val_accuracy: 0.7941\n",
      "Epoch 36/64\n",
      "1089/1089 [==============================] - 3s 2ms/step - loss: 0.3133 - accuracy: 0.9660 - val_loss: 0.9351 - val_accuracy: 0.8272\n",
      "Epoch 37/64\n",
      "1089/1089 [==============================] - 3s 2ms/step - loss: 0.3482 - accuracy: 0.9550 - val_loss: 1.0412 - val_accuracy: 0.7794\n",
      "Epoch 38/64\n",
      "1089/1089 [==============================] - 3s 2ms/step - loss: 0.2686 - accuracy: 0.9761 - val_loss: 1.1855 - val_accuracy: 0.7794\n",
      "Epoch 39/64\n",
      "1089/1089 [==============================] - 3s 2ms/step - loss: 0.3104 - accuracy: 0.9578 - val_loss: 1.0337 - val_accuracy: 0.8125\n",
      "Epoch 40/64\n",
      "1089/1089 [==============================] - 3s 3ms/step - loss: 0.2728 - accuracy: 0.9706 - val_loss: 1.0536 - val_accuracy: 0.7831\n",
      "Epoch 41/64\n",
      "1089/1089 [==============================] - 3s 2ms/step - loss: 0.2922 - accuracy: 0.9651 - val_loss: 1.1462 - val_accuracy: 0.7684\n",
      "Epoch 42/64\n",
      "1089/1089 [==============================] - 3s 2ms/step - loss: 0.2668 - accuracy: 0.9798 - val_loss: 1.0089 - val_accuracy: 0.8162\n",
      "Epoch 43/64\n",
      "1089/1089 [==============================] - 3s 2ms/step - loss: 0.2941 - accuracy: 0.9568 - val_loss: 1.1286 - val_accuracy: 0.7904\n",
      "Epoch 44/64\n",
      "1089/1089 [==============================] - 3s 3ms/step - loss: 0.2651 - accuracy: 0.9706 - val_loss: 1.1035 - val_accuracy: 0.7831\n",
      "Epoch 45/64\n",
      "1089/1089 [==============================] - 3s 2ms/step - loss: 0.2920 - accuracy: 0.9605 - val_loss: 1.1424 - val_accuracy: 0.7941\n",
      "Epoch 46/64\n",
      "1089/1089 [==============================] - 3s 2ms/step - loss: 0.2658 - accuracy: 0.9697 - val_loss: 1.0187 - val_accuracy: 0.7941\n",
      "Epoch 47/64\n",
      "1089/1089 [==============================] - 3s 2ms/step - loss: 0.2745 - accuracy: 0.9660 - val_loss: 1.1048 - val_accuracy: 0.8015\n",
      "Epoch 48/64\n",
      "1089/1089 [==============================] - 3s 2ms/step - loss: 0.2358 - accuracy: 0.9780 - val_loss: 1.0904 - val_accuracy: 0.8051\n",
      "Epoch 49/64\n",
      "1089/1089 [==============================] - 3s 2ms/step - loss: 0.2477 - accuracy: 0.9816 - val_loss: 1.0241 - val_accuracy: 0.8235\n",
      "Epoch 50/64\n",
      "1089/1089 [==============================] - 3s 2ms/step - loss: 0.2275 - accuracy: 0.9752 - val_loss: 1.3306 - val_accuracy: 0.7684\n",
      "Epoch 51/64\n",
      "1089/1089 [==============================] - 3s 2ms/step - loss: 0.2451 - accuracy: 0.9660 - val_loss: 1.0448 - val_accuracy: 0.8088\n",
      "Epoch 52/64\n",
      "1089/1089 [==============================] - 3s 2ms/step - loss: 0.2611 - accuracy: 0.9605 - val_loss: 1.0245 - val_accuracy: 0.8309\n",
      "Epoch 53/64\n",
      "1089/1089 [==============================] - 3s 2ms/step - loss: 0.2057 - accuracy: 0.9826 - val_loss: 1.3292 - val_accuracy: 0.7904\n",
      "Epoch 54/64\n",
      "1089/1089 [==============================] - 3s 2ms/step - loss: 0.2711 - accuracy: 0.9587 - val_loss: 0.8886 - val_accuracy: 0.8199\n",
      "Epoch 55/64\n",
      "1089/1089 [==============================] - 3s 2ms/step - loss: 0.2171 - accuracy: 0.9807 - val_loss: 1.0028 - val_accuracy: 0.7978\n",
      "Epoch 56/64\n",
      "1089/1089 [==============================] - 3s 2ms/step - loss: 0.2536 - accuracy: 0.9660 - val_loss: 1.5037 - val_accuracy: 0.7500\n",
      "Epoch 57/64\n",
      "1089/1089 [==============================] - 3s 2ms/step - loss: 0.2413 - accuracy: 0.9761 - val_loss: 1.0638 - val_accuracy: 0.7794\n",
      "Epoch 58/64\n",
      "1089/1089 [==============================] - 3s 2ms/step - loss: 0.2279 - accuracy: 0.9706 - val_loss: 1.1262 - val_accuracy: 0.8051\n",
      "Epoch 59/64\n",
      "1089/1089 [==============================] - 3s 2ms/step - loss: 0.2245 - accuracy: 0.9752 - val_loss: 0.9215 - val_accuracy: 0.8235\n",
      "Epoch 60/64\n",
      "1089/1089 [==============================] - 3s 2ms/step - loss: 0.2354 - accuracy: 0.9715 - val_loss: 0.9639 - val_accuracy: 0.8346\n",
      "Epoch 61/64\n",
      "1089/1089 [==============================] - 3s 2ms/step - loss: 0.2084 - accuracy: 0.9770 - val_loss: 1.0476 - val_accuracy: 0.8162\n",
      "Epoch 62/64\n",
      "1089/1089 [==============================] - 3s 2ms/step - loss: 0.2173 - accuracy: 0.9706 - val_loss: 1.2924 - val_accuracy: 0.7757\n",
      "Epoch 63/64\n",
      "1089/1089 [==============================] - 3s 2ms/step - loss: 0.2265 - accuracy: 0.9734 - val_loss: 1.1031 - val_accuracy: 0.8051\n",
      "Epoch 64/64\n",
      "1089/1089 [==============================] - 3s 3ms/step - loss: 0.2312 - accuracy: 0.9660 - val_loss: 1.0780 - val_accuracy: 0.7904\n",
      "272/272 [==============================] - 0s 865us/step\n",
      "accuracy: 79.04%\n",
      "80.82% (+/- 2.08%)\n"
     ]
    }
   ],
   "source": [
    "earlystopper = EarlyStopping(monitor='val_loss', min_delta=0,\n",
    "                             patience=10, verbose=1, mode='auto')\n",
    "#earlystopper = EarlyStopping(monitor='val_accuracy', min_delta=0,\n",
    "#                             patience=1, verbose=1, mode='auto')\n",
    "# tensorboard = TensorBoard(log_dir='./tensorboard_brandnew')\n",
    "# checkpointer = ModelCheckpoint(#filepath='./ModelCheckpoint/weights_brandnew.hdf5',\n",
    "#                                filepath='./ModelCheckpoint/model.{epoch:02d}-{val_loss:.2f}.h5',\n",
    "#                                verbose=1, save_best_only=True)\n",
    "\n",
    "# fix random seed for reproducibility\n",
    "seed = 7\n",
    "numpy.random.seed(seed)\n",
    "\n",
    "# define 10-fold cross validation test harness\n",
    "kfold = StratifiedKFold(n_splits=5, shuffle=True, random_state=seed)\n",
    "X = data_train\n",
    "Y = y_train\n",
    "cvscores = []\n",
    "history = []\n",
    "lim = 0\n",
    "count = 0\n",
    "for train, test in kfold.split(X, Y):\n",
    "    y_cat = to_categorical(Y).astype(int)\n",
    "    print('k = ', count)\n",
    "    count += 1\n",
    "    model = Sequential()\n",
    "    #Layer 1\n",
    "    #Conv Layer 1\n",
    "    model.add(Conv2D(filters = 6,  kernel_initializer='he_normal', kernel_regularizer='l2',\n",
    "                     kernel_size = 5, \n",
    "                     strides = 1, \n",
    "                     activation = 'relu', \n",
    "                     input_shape = (32,32,1)))\n",
    "    model.add(Dropout(0.1))\n",
    "    model.add(BatchNormalization())\n",
    "    #Pooling layer 1\n",
    "    model.add(MaxPooling2D(pool_size = 2, strides = 2))\n",
    "    #Layer 2\n",
    "    #Conv Layer 2\n",
    "    model.add(Conv2D(filters = 16, kernel_initializer='he_normal',\n",
    "                     kernel_size = 5,\n",
    "                     strides = 1,\n",
    "                     activation = 'relu',\n",
    "                     input_shape = (14,14,6)))\n",
    "#     model.add(Dropout(0.1))\n",
    "#     model.add(BatchNormalization())\n",
    "    #Pooling Layer 2\n",
    "    model.add(MaxPooling2D(pool_size = 2, strides = 2))\n",
    "    #Flatten\n",
    "    model.add(Flatten())\n",
    "#     model.add(BatchNormalization())\n",
    "    #Layer 3\n",
    "    #Fully connected layer 1\n",
    "    model.add(Dense(units = 120, activation = 'relu', kernel_initializer='he_normal', kernel_regularizer='l2'))\n",
    "    model.add(Dropout(0.1))\n",
    "    #Layer 4\n",
    "    #Fully connected layer 2\n",
    "    model.add(Dense(units = 84, activation = 'relu', kernel_initializer='normal'))\n",
    "    model.add(Dropout(0.1))\n",
    "#     model.add(BatchNormalization())\n",
    "    #Layer 5\n",
    "    #Output Layer\n",
    "    model.add(Dense(units = 28, activation = 'softmax'))\n",
    "\n",
    "    # Compile model\n",
    "    model.compile(optimizer = 'RMSProp', loss = 'categorical_crossentropy', metrics = ['accuracy'])\n",
    "    \n",
    "    # Fit the model\n",
    "#     model.fit(X[train], y_cat[train], epochs=8, batch_size=16, verbose=1)\n",
    "    h = model.fit(X[train] ,y_cat[train], epochs = 64,\n",
    "                    batch_size = 16, \n",
    "                    validation_data = [X[test], y_cat[test]],\n",
    "                    )\n",
    "#                     callbacks=[checkpointer, earlystopper, tensorboard])\n",
    "\n",
    "#     model.compile(loss='categorical_crossentropy', optimizer='adam', metrics=['accuracy'])\n",
    "    history.append(h)\n",
    "    # evaluate the model\n",
    "    scores = model.evaluate(X[test], y_cat[test], verbose=1)\n",
    "#     if scores[1]>lim:\n",
    "#         lim = scores[1]\n",
    "#         filename = 'keras_car_brand_LeNetConvHOG.pkl'\n",
    "#         pickle.dump(model, open(filename, 'wb'))\n",
    "#         model.save('saved_kfold_model_temp')\n",
    "#     filename = 'keras_car_brand_LeNetConvHOG_'+str(count)+'.pkl'\n",
    "#     pickle.dump(model, open(filename, 'wb'))\n",
    "    print(\"%s: %.2f%%\" % (model.metrics_names[1], scores[1]*100))\n",
    "    cvscores.append(scores[1] * 100)\n",
    "print(\"%.2f%% (+/- %.2f%%)\" % (numpy.mean(cvscores), numpy.std(cvscores)))"
   ]
  },
  {
   "cell_type": "code",
   "execution_count": 128,
   "metadata": {},
   "outputs": [
    {
     "name": "stdout",
     "output_type": "stream",
     "text": [
      "k =  1\n"
     ]
    },
    {
     "data": {
      "image/png": "[encoded data removed]",
      "text/plain": [
       "<Figure size 432x288 with 1 Axes>"
      ]
     },
     "metadata": {
      "needs_background": "light"
     },
     "output_type": "display_data"
    },
    {
     "data": {
      "image/png": "[encoded data removed]",
      "text/plain": [
       "<Figure size 432x288 with 1 Axes>"
      ]
     },
     "metadata": {
      "needs_background": "light"
     },
     "output_type": "display_data"
    },
    {
     "name": "stdout",
     "output_type": "stream",
     "text": [
      "k =  2\n"
     ]
    },
    {
     "data": {
      "image/png": "[encoded data removed]",
      "text/plain": [
       "<Figure size 432x288 with 1 Axes>"
      ]
     },
     "metadata": {
      "needs_background": "light"
     },
     "output_type": "display_data"
    },
    {
     "data": {
      "image/png": "[encoded data removed]",
      "text/plain": [
       "<Figure size 432x288 with 1 Axes>"
      ]
     },
     "metadata": {
      "needs_background": "light"
     },
     "output_type": "display_data"
    },
    {
     "name": "stdout",
     "output_type": "stream",
     "text": [
      "k =  3\n"
     ]
    },
    {
     "data": {
      "image/png": "[encoded data removed]",
      "text/plain": [
       "<Figure size 432x288 with 1 Axes>"
      ]
     },
     "metadata": {
      "needs_background": "light"
     },
     "output_type": "display_data"
    },
    {
     "data": {
      "image/png": "[encoded data removed]",
      "text/plain": [
       "<Figure size 432x288 with 1 Axes>"
      ]
     },
     "metadata": {
      "needs_background": "light"
     },
     "output_type": "display_data"
    },
    {
     "name": "stdout",
     "output_type": "stream",
     "text": [
      "k =  4\n"
     ]
    },
    {
     "data": {
      "image/png": "[encoded data removed]",
      "text/plain": [
       "<Figure size 432x288 with 1 Axes>"
      ]
     },
     "metadata": {
      "needs_background": "light"
     },
     "output_type": "display_data"
    },
    {
     "data": {
      "image/png": "[encoded data removed]",
      "text/plain": [
       "<Figure size 432x288 with 1 Axes>"
      ]
     },
     "metadata": {
      "needs_background": "light"
     },
     "output_type": "display_data"
    },
    {
     "name": "stdout",
     "output_type": "stream",
     "text": [
      "k =  5\n"
     ]
    },
    {
     "data": {
      "image/png": "[encoded data removed]",
      "text/plain": [
       "<Figure size 432x288 with 1 Axes>"
      ]
     },
     "metadata": {
      "needs_background": "light"
     },
     "output_type": "display_data"
    },
    {
     "data": {
      "image/png": "[encoded data removed]",
      "text/plain": [
       "<Figure size 432x288 with 1 Axes>"
      ]
     },
     "metadata": {
      "needs_background": "light"
     },
     "output_type": "display_data"
    },
    {
     "name": "stdout",
     "output_type": "stream",
     "text": [
      "Model: \"sequential_8\"\n",
      "_________________________________________________________________\n",
      "Layer (type)                 Output Shape              Param #   \n",
      "=================================================================\n",
      "conv2d_15 (Conv2D)           (None, 28, 28, 6)         156       \n",
      "_________________________________________________________________\n",
      "dropout_22 (Dropout)         (None, 28, 28, 6)         0         \n",
      "_________________________________________________________________\n",
      "batch_normalization_8 (Batch (None, 28, 28, 6)         24        \n",
      "_________________________________________________________________\n",
      "max_pooling2d_15 (MaxPooling (None, 14, 14, 6)         0         \n",
      "_________________________________________________________________\n",
      "conv2d_16 (Conv2D)           (None, 10, 10, 16)        2416      \n",
      "_________________________________________________________________\n",
      "max_pooling2d_16 (MaxPooling (None, 5, 5, 16)          0         \n",
      "_________________________________________________________________\n",
      "flatten_8 (Flatten)          (None, 400)               0         \n",
      "_________________________________________________________________\n",
      "dense_22 (Dense)             (None, 120)               48120     \n",
      "_________________________________________________________________\n",
      "dropout_23 (Dropout)         (None, 120)               0         \n",
      "_________________________________________________________________\n",
      "dense_23 (Dense)             (None, 84)                10164     \n",
      "_________________________________________________________________\n",
      "dropout_24 (Dropout)         (None, 84)                0         \n",
      "_________________________________________________________________\n",
      "dense_24 (Dense)             (None, 28)                2380      \n",
      "=================================================================\n",
      "Total params: 63,260\n",
      "Trainable params: 63,248\n",
      "Non-trainable params: 12\n",
      "_________________________________________________________________\n"
     ]
    }
   ],
   "source": [
    "# summarize history for accuracy\n",
    "c = 1\n",
    "for h in history:\n",
    "    print('k = ', c)\n",
    "    c += 1\n",
    "    plt.plot(h.history['accuracy'])\n",
    "    plt.plot(h.history['val_accuracy'])\n",
    "    plt.title('model accuracy')\n",
    "    plt.ylabel('accuracy')\n",
    "    plt.xlabel('epoch')\n",
    "    plt.legend(['train', 'test'], loc='upper left')\n",
    "    plt.show()\n",
    "    # summarize history for loss\n",
    "    plt.plot(h.history['loss'])\n",
    "    plt.plot(h.history['val_loss'])\n",
    "    plt.title('model loss')\n",
    "    plt.ylabel('loss')\n",
    "    plt.xlabel('epoch')\n",
    "    plt.legend(['train', 'test'], loc='upper left')\n",
    "    plt.show()\n",
    "model.summary()"
   ]
  },
  {
   "cell_type": "code",
   "execution_count": 129,
   "metadata": {},
   "outputs": [],
   "source": [
    "data_test = data_test.reshape(-1, 32, 32, 1).astype(np.float32)/255"
   ]
  },
  {
   "cell_type": "code",
   "execution_count": 130,
   "metadata": {},
   "outputs": [],
   "source": [
    "y_pred = model.predict(data_test)"
   ]
  },
  {
   "cell_type": "code",
   "execution_count": 132,
   "metadata": {},
   "outputs": [],
   "source": [
    "y_pred = np.argmax(y_pred, axis = 1)"
   ]
  },
  {
   "cell_type": "code",
   "execution_count": 163,
   "metadata": {},
   "outputs": [],
   "source": [
    "def plot_gallery(images, titles, n_row=3, n_col=4):\n",
    "    plt.figure(1, figsize=(1.8 * n_col, 2.4 * n_row))\n",
    "    plt.subplots_adjust(bottom=0, left=.01, right=.99, top=.90, hspace=.35)\n",
    "    for i in range(n_row * n_col):\n",
    "        r = random.randint(1,len(images))\n",
    "        plt.subplot(n_row, n_col, i + 1)\n",
    "        plt.imshow(images[r], cmap=plt.cm.gray)\n",
    "        plt.title(titles[r], size=12)\n",
    "        plt.xticks(())\n",
    "        plt.yticks(())\n",
    "    plt.show()\n",
    "    #plt.savefig(\"predict.png\")\n",
    "def plot_gallery_predict(images, predict, true, n_row=3, n_col=4):\n",
    "    plt.figure(1, figsize=(1.8 * n_col, 2.4 * n_row))\n",
    "    plt.subplots_adjust(bottom=0, left=.01, right=.99, top=.90, hspace=.35)\n",
    "    for i in range(n_row * n_col):\n",
    "        r = random.randint(1,len(images))\n",
    "        plt.subplot(n_row, n_col, i + 1)\n",
    "        plt.imshow(images[r], cmap=plt.cm.gray)\n",
    "        plt.title('p:' + str(predict[r]) + '   t:' + str(true[r]), size=12)\n",
    "        plt.xticks(())\n",
    "        plt.yticks(())\n",
    "    plt.show()\n",
    "    #plt.savefig(\"predict.png\")\n",
    "import matplotlib.pyplot as plt\n",
    "import itertools\n",
    "def plot_confusion_matrix(cm, classes,\n",
    "                          normalize=False,\n",
    "                          cmap=plt.cm.Blues):\n",
    "    \"\"\"\n",
    "    This function prints and plots the confusion matrix.\n",
    "    Normalization can be applied by setting `normalize=True`.\n",
    "    \"\"\"\n",
    "    if normalize:\n",
    "        cm = cm.astype('float') / cm.sum(axis=1)[:, np.newaxis]\n",
    "        title='Normalized confusion matrix'\n",
    "    else:\n",
    "        title='Confusion matrix'\n",
    "\n",
    "    plt.imshow(cm, interpolation='nearest', cmap=cmap)\n",
    "    plt.title(title)\n",
    "    plt.colorbar()\n",
    "    tick_marks = np.arange(len(classes))\n",
    "    plt.xticks(tick_marks, classes, rotation=45)\n",
    "    plt.yticks(tick_marks, classes)\n",
    "\n",
    "    fmt = '.2f' if normalize else 'd'\n",
    "    thresh = cm.max() / 2.\n",
    "    for i, j in itertools.product(range(cm.shape[0]), range(cm.shape[1])):\n",
    "        plt.text(j, i, format(cm[i, j], fmt),\n",
    "                 horizontalalignment=\"center\",\n",
    "                 color=\"white\" if cm[i, j] > thresh else \"black\")\n",
    "\n",
    "#     plt.tight_layout()\n",
    "    plt.ylabel('True label')\n",
    "    plt.xlabel('Predicted label')\n",
    "    plt.show()"
   ]
  },
  {
   "cell_type": "code",
   "execution_count": 164,
   "metadata": {},
   "outputs": [
    {
     "name": "stdout",
     "output_type": "stream",
     "text": [
      "              precision    recall  f1-score   support\n",
      "\n",
      "           0       0.93      0.88      0.90        16\n",
      "           1       0.71      0.81      0.76        27\n",
      "           2       0.82      0.97      0.89        32\n",
      "           3       0.75      0.83      0.79        18\n",
      "           4       0.68      0.86      0.76        22\n",
      "           5       0.82      0.58      0.68        24\n",
      "           6       0.77      0.83      0.80        24\n",
      "           7       0.71      1.00      0.83         5\n",
      "           8       0.80      1.00      0.89         4\n",
      "           9       1.00      0.88      0.93         8\n",
      "          10       1.00      0.80      0.89         5\n",
      "          11       0.93      1.00      0.96        13\n",
      "          12       0.92      0.69      0.79        16\n",
      "          13       1.00      1.00      1.00        15\n",
      "          14       0.82      0.82      0.82        11\n",
      "          15       0.88      1.00      0.93         7\n",
      "          16       1.00      0.92      0.96        12\n",
      "          17       0.73      0.62      0.67        13\n",
      "          18       1.00      0.64      0.78        11\n",
      "          19       0.63      0.67      0.65        18\n",
      "          20       0.83      0.79      0.81        19\n",
      "          21       1.00      0.91      0.95        11\n",
      "          22       0.96      0.96      0.96        23\n",
      "          23       0.88      0.56      0.68        25\n",
      "          24       0.77      0.83      0.80        24\n",
      "          25       1.00      1.00      1.00         3\n",
      "          26       0.76      0.90      0.83        21\n",
      "          27       0.74      0.74      0.74        27\n",
      "\n",
      "    accuracy                           0.82       454\n",
      "   macro avg       0.85      0.84      0.84       454\n",
      "weighted avg       0.83      0.82      0.81       454\n",
      "\n"
     ]
    },
    {
     "data": {
      "image/png": "[encoded data removed]",
      "text/plain": [
       "<Figure size 432x288 with 2 Axes>"
      ]
     },
     "metadata": {
      "needs_background": "light"
     },
     "output_type": "display_data"
    }
   ],
   "source": [
    "from sklearn.metrics import classification_report, confusion_matrix\n",
    "\n",
    "print(classification_report(y_test, y_pred))\n",
    "# print(loaded_test_brand['target_dict'])\n",
    "# print(confusion_matrix(y_test, y_pred))\n",
    "cm = confusion_matrix(y_test, y_pred)\n",
    "plot_confusion_matrix(cm, char_list_nameonly)"
   ]
  },
  {
   "cell_type": "code",
   "execution_count": 155,
   "metadata": {},
   "outputs": [
    {
     "data": {
      "text/plain": [
       "'‘ain'"
      ]
     },
     "execution_count": 155,
     "metadata": {},
     "output_type": "execute_result"
    }
   ],
   "source": [
    "char_list_nameonly[17]"
   ]
  },
  {
   "cell_type": "code",
   "execution_count": 158,
   "metadata": {},
   "outputs": [
    {
     "name": "stdout",
     "output_type": "stream",
     "text": [
      "False:  83\n"
     ]
    }
   ],
   "source": [
    "false_id = []\n",
    "false_img = []\n",
    "false_label = []\n",
    "false_true_id = []\n",
    "for x in range(len(y_pred)):\n",
    "    if y_pred[x] != y_test[x]:\n",
    "        false_id.append(x)\n",
    "        false_img.append(data_test[x].reshape(32, 32))\n",
    "        false_label.append(char_list_nameonly[y_pred[x]])\n",
    "        false_true_id.append(char_list_nameonly[y_test[x]])\n",
    "print('False: ', len(false_id))"
   ]
  },
  {
   "cell_type": "code",
   "execution_count": 161,
   "metadata": {},
   "outputs": [
    {
     "data": {
      "image/png": "[encoded data removed]",
      "text/plain": [
       "<Figure size 1036.8x691.2 with 32 Axes>"
      ]
     },
     "metadata": {},
     "output_type": "display_data"
    }
   ],
   "source": [
    "plot_gallery_predict(false_img, predict=false_label, true=false_true_id, n_row=4, n_col=8)\n",
    "# p = predict, t = true"
   ]
  },
  {
   "cell_type": "code",
   "execution_count": 1,
   "metadata": {},
   "outputs": [],
   "source": [
    "import loader"
   ]
  },
  {
   "cell_type": "code",
   "execution_count": 2,
   "metadata": {},
   "outputs": [
    {
     "name": "stdout",
     "output_type": "stream",
     "text": [
      "All files are .png\n",
      "sibh=  30 122\n",
      "sibw=  106 16\n",
      "libh=  288 131\n",
      "libw=  144 313\n",
      "ratio_to_sibh=  0.10416666666666667\n",
      "ratio_to_sibw=  0.051118210862619806\n",
      "ratio_to_32_bh=  0.1111111111111111\n",
      "ratio_to_32_bw=  0.10223642172523961\n"
     ]
    }
   ],
   "source": [
    "loc_collection = 'Auto_Collection_Gray/'\n",
    "# shape = 'Square'\n",
    "shape = 'No_Margin'\n",
    "sameratio_keepform, diffratio_keepform, sameratio_diffform, diffratio_diffform = loader.main(loc_collection, shape)"
   ]
  },
  {
   "cell_type": "code",
   "execution_count": 3,
   "metadata": {},
   "outputs": [
    {
     "data": {
      "text/plain": [
       "dict_keys(['sk_32_bh', 'sk_32_bw', 'sk_sibh', 'sk_sibw', 'sk_largest'])"
      ]
     },
     "execution_count": 3,
     "metadata": {},
     "output_type": "execute_result"
    }
   ],
   "source": [
    "a.keys()"
   ]
  },
  {
   "cell_type": "code",
   "execution_count": null,
   "metadata": {},
   "outputs": [],
   "source": []
  }
 ],
 "metadata": {
  "kernelspec": {
   "display_name": "tf2",
   "language": "python",
   "name": "tf2"
  },
  "language_info": {
   "codemirror_mode": {
    "name": "ipython",
    "version": 3
   },
   "file_extension": ".py",
   "mimetype": "text/x-python",
   "name": "python",
   "nbconvert_exporter": "python",
   "pygments_lexer": "ipython3",
   "version": "3.6.9"
  }
 },
 "nbformat": 4,
 "nbformat_minor": 4
}
