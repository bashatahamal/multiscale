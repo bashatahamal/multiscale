{
 "cells": [
  {
   "cell_type": "code",
   "execution_count": 1,
   "metadata": {},
   "outputs": [],
   "source": [
    "import loader\n",
    "import cv2\n",
    "import numpy as np\n",
    "import pickle"
   ]
  },
  {
   "cell_type": "code",
   "execution_count": 2,
   "metadata": {},
   "outputs": [],
   "source": [
    "import matplotlib.pyplot as plt\n",
    "import random\n",
    "def plot_gallery(images, titles, n_row=3, n_col=4):\n",
    "    plt.figure(1, figsize=(1.8 * n_col, 2.4 * n_row))\n",
    "    plt.subplots_adjust(bottom=0, left=.01, right=.99, top=.90, hspace=.35)\n",
    "    for i in range(n_row * n_col):\n",
    "        r = random.randint(1,len(images))\n",
    "        plt.subplot(n_row, n_col, i + 1)\n",
    "        plt.imshow(images[r], cmap=plt.cm.gray)\n",
    "        plt.title(char_list_nameonly[titles[r]], size=12)\n",
    "        plt.xticks(())\n",
    "        plt.yticks(())\n",
    "    plt.show()\n",
    "    #plt.savefig(\"predict.png\")\n",
    "\n",
    "def plot_gallery_norand(images, titles, n_row=3, n_col=4):\n",
    "    plt.figure(1, figsize=(1.8 * n_col, 2.4 * n_row))\n",
    "    plt.subplots_adjust(bottom=0, left=.01, right=.99, top=.90, hspace=.35)\n",
    "    for i in range(n_row * n_col):\n",
    "#         r = random.randint(1,len(images))\n",
    "        plt.subplot(n_row, n_col, i + 1)\n",
    "        plt.imshow(images[i], cmap=plt.cm.gray)\n",
    "        plt.title(char_list_nameonly[titles[i]], size=12)\n",
    "        plt.xticks(())\n",
    "        plt.yticks(())\n",
    "    plt.show()"
   ]
  },
  {
   "cell_type": "code",
   "execution_count": 3,
   "metadata": {},
   "outputs": [
    {
     "name": "stdout",
     "output_type": "stream",
     "text": [
      "All files are .png\n",
      "sibh=  30 122\n",
      "sibw=  106 16\n",
      "libh=  288 131\n",
      "libw=  144 313\n",
      "ratio_to_sibh=  0.10416666666666667\n",
      "ratio_to_sibw=  0.051118210862619806\n",
      "ratio_to_32_bh=  0.1111111111111111\n",
      "ratio_to_32_bw=  0.10223642172523961\n",
      "dict_keys(['sk_32_bh', 'sk_32_bw', 'sk_sibh', 'sk_sibw', 'sk_largest'])\n",
      "dict_keys(['dk_32', 'dk_sibh', 'dk_sibw', 'dk_libh', 'dk_libw'])\n",
      "dict_keys(['sd_32', 'sd_smallest', 'sd_largest'])\n",
      "dict_keys(['dd_32', 'dd_sibh', 'dd_sibw', 'dd_libh', 'dd_libw'])\n"
     ]
    }
   ],
   "source": [
    "loc_collection = 'Auto_Collection_Gray/'\n",
    "# shape = 'Square'\n",
    "shape = 'No_Margin'\n",
    "char_list_nameonly = [\n",
    "    'Alif‬', 'Bā’', 'Tā’', 'Ṡā’‬', 'Jīm', 'h_Ḥā’‬', 'Khā’‬',\n",
    "    'Dāl‬', 'Żāl‬', 'Rā’‬', 'zai‬', 'sīn‬', 'syīn‬', 's_ṣād',\n",
    "    'd_ḍād'\n",
    "    , 't_ṭā’‬', 'z_ẓȧ’‬', '‘ain', 'gain‬', 'fā’‬', 'qāf‬',\n",
    "    'kāf‬', 'lām‬', 'mīm‬', 'nūn‬', 'wāw‬', 'hā’‬', 'yā’‬'\n",
    "]\n",
    "sameratio_keepform, diffratio_keepform, sameratio_diffform, diffratio_diffform = loader.main(loc_collection, shape)\n",
    "\n",
    "print(sameratio_keepform.keys())\n",
    "print(diffratio_keepform.keys())\n",
    "print(sameratio_diffform.keys())\n",
    "print(diffratio_diffform.keys())"
   ]
  },
  {
   "cell_type": "code",
   "execution_count": 151,
   "metadata": {},
   "outputs": [],
   "source": [
    "data_dk = []\n",
    "label_dk = []\n",
    "for i in range(0,28):\n",
    "    for x in range(len(diffratio_keepform['dk_32'][i])):\n",
    "        gd = diffratio_keepform['dk_32'][i][x]\n",
    "        data_dk.append(diffratio_keepform['dk_32'][i][x])\n",
    "        label_dk.append(i)\n",
    "data_dk = np.array(data_dk)\n",
    "label_dk = np.array(label_dk)\n",
    "\n",
    "data_sk = []\n",
    "data_sk_temp = []\n",
    "label_sk = []\n",
    "for i in range(0,28):\n",
    "    for x in range(len(sameratio_keepform['sk_32_bh'][i])):\n",
    "        data_sk_temp.append(sameratio_keepform['sk_32_bh'][i][x])\n",
    "        label_sk.append(i)\n",
    "for x in data_sk_temp:\n",
    "    y = list(data_sk_temp[0].ravel())\n",
    "    y = np.array(y)\n",
    "    data_sk.append(y.reshape(32, 32))\n",
    "data_sk = np.array(data_sk)\n",
    "label_sk = np.array(label_sk)\n",
    "\n",
    "data_sd = []\n",
    "label_sd = []\n",
    "for i in range(0,28):\n",
    "    for x in range(len(sameratio_diffform['sd_32'][i])):\n",
    "        data_sd.append(sameratio_diffform['sd_32'][i][x])\n",
    "        label_sd.append(i)\n",
    "data_sd = np.array(data_sd)\n",
    "label_sd = np.array(label_sd)\n",
    "\n",
    "data_dd = []\n",
    "label_dd = []\n",
    "for i in range(0,28):\n",
    "    for x in range(len(diffratio_diffform['dd_32'][i])):\n",
    "        data_dd.append(diffratio_diffform['dd_32'][i][x])\n",
    "        label_dd.append(i)\n",
    "data_dd = np.array(data_dd)\n",
    "label_dd = np.array(label_dd)"
   ]
  },
  {
   "cell_type": "code",
   "execution_count": 152,
   "metadata": {},
   "outputs": [
    {
     "name": "stdout",
     "output_type": "stream",
     "text": [
      "sameratio_keepform\n"
     ]
    },
    {
     "data": {
      "image/png": "[encoded data removed]",
      "text/plain": [
       "<Figure size 518.4x172.8 with 4 Axes>"
      ]
     },
     "metadata": {},
     "output_type": "display_data"
    },
    {
     "name": "stdout",
     "output_type": "stream",
     "text": [
      "diffratio_keepform\n"
     ]
    },
    {
     "data": {
      "image/png": "[encoded data removed]",
      "text/plain": [
       "<Figure size 518.4x172.8 with 4 Axes>"
      ]
     },
     "metadata": {},
     "output_type": "display_data"
    },
    {
     "name": "stdout",
     "output_type": "stream",
     "text": [
      "sameratio_diffform\n"
     ]
    },
    {
     "data": {
      "image/png": "[encoded data removed]",
      "text/plain": [
       "<Figure size 518.4x172.8 with 4 Axes>"
      ]
     },
     "metadata": {},
     "output_type": "display_data"
    },
    {
     "name": "stdout",
     "output_type": "stream",
     "text": [
      "diffratio_diffform\n"
     ]
    },
    {
     "data": {
      "image/png": "[encoded data removed]",
      "text/plain": [
       "<Figure size 518.4x172.8 with 4 Axes>"
      ]
     },
     "metadata": {},
     "output_type": "display_data"
    }
   ],
   "source": [
    "print('sameratio_keepform')\n",
    "plot_gallery_norand(data_sk, label_sk, 1, 4)\n",
    "print('diffratio_keepform')\n",
    "plot_gallery_norand(data_dk, label_dk, 1, 4)\n",
    "print('sameratio_diffform')\n",
    "plot_gallery_norand(data_sd, label_sd, 1, 4)\n",
    "print('diffratio_diffform')\n",
    "plot_gallery_norand(data_dd, label_dd, 1, 4)"
   ]
  },
  {
   "cell_type": "code",
   "execution_count": 154,
   "metadata": {},
   "outputs": [],
   "source": [
    "from sklearn.model_selection import train_test_split\n",
    "test_size = 0.25\n",
    "random_state = 52\n",
    "\n",
    "data_train, data_test, y_train, y_test = train_test_split(\n",
    "data_sk, label_dk, test_size=test_size,random_state=random_state)"
   ]
  },
  {
   "cell_type": "code",
   "execution_count": 155,
   "metadata": {},
   "outputs": [],
   "source": [
    "data_train = data_train.reshape(-1, 32, 32, 1).astype(np.float32)/255"
   ]
  },
  {
   "cell_type": "code",
   "execution_count": 156,
   "metadata": {},
   "outputs": [
    {
     "data": {
      "text/plain": [
       "(1361, 32, 32, 1)"
      ]
     },
     "execution_count": 156,
     "metadata": {},
     "output_type": "execute_result"
    }
   ],
   "source": [
    "data_train.shape"
   ]
  },
  {
   "cell_type": "code",
   "execution_count": 160,
   "metadata": {},
   "outputs": [
    {
     "data": {
      "text/plain": [
       "array([[[255, 255, 255, ..., 255, 255, 255],\n",
       "        [255, 244,  42, ..., 255, 255, 255],\n",
       "        [224,  10,   0, ..., 255, 255, 255],\n",
       "        ...,\n",
       "        [255, 255, 255, ...,   0,   3,  61],\n",
       "        [255, 255, 255, ...,   3,  52, 248],\n",
       "        [255, 255, 255, ..., 255, 255, 255]],\n",
       "\n",
       "       [[255, 255,  89, ..., 255, 255, 255],\n",
       "        [223,  28,   0, ..., 255, 255, 255],\n",
       "        [ 32,   0,   0, ..., 255, 255, 255],\n",
       "        ...,\n",
       "        [255, 253, 132, ..., 238, 255, 255],\n",
       "        [255, 255, 255, ..., 255, 255, 255],\n",
       "        [255, 255, 255, ..., 255, 255, 255]],\n",
       "\n",
       "       [[255, 255, 255, ..., 255, 255, 255],\n",
       "        [255, 255, 255, ..., 255, 255, 255],\n",
       "        [255, 255, 255, ..., 255, 255, 255],\n",
       "        ...,\n",
       "        [255, 255, 255, ..., 255, 255, 255],\n",
       "        [255, 255, 255, ..., 255, 255, 255],\n",
       "        [255, 255, 255, ..., 255, 255, 255]],\n",
       "\n",
       "       ...,\n",
       "\n",
       "       [[255, 255, 255, ..., 255, 255, 255],\n",
       "        [255, 255, 255, ..., 255, 255, 255],\n",
       "        [255, 255, 255, ..., 255, 255, 255],\n",
       "        ...,\n",
       "        [255, 255, 255, ..., 255, 255, 255],\n",
       "        [255, 255, 255, ..., 255, 255, 255],\n",
       "        [255, 255, 255, ..., 255, 255, 255]],\n",
       "\n",
       "       [[255, 255, 255, ...,   0,   0,  51],\n",
       "        [255, 255, 255, ...,   0,   0,   0],\n",
       "        [255, 255, 255, ...,   0,   0,   0],\n",
       "        ...,\n",
       "        [255, 255, 255, ..., 255, 255, 255],\n",
       "        [255, 255, 255, ..., 255, 255, 255],\n",
       "        [255, 255, 255, ..., 255, 255, 255]],\n",
       "\n",
       "       [[255, 255, 255, ..., 255, 255, 255],\n",
       "        [255, 255, 255, ..., 255, 255, 255],\n",
       "        [255, 255, 255, ..., 255, 255, 255],\n",
       "        ...,\n",
       "        [255, 255, 255, ..., 255, 255, 255],\n",
       "        [255, 255, 255, ..., 255, 255, 255],\n",
       "        [255, 255, 255, ..., 255, 255, 255]]], dtype=uint8)"
      ]
     },
     "execution_count": 160,
     "metadata": {},
     "output_type": "execute_result"
    }
   ],
   "source": [
    "data_dd"
   ]
  },
  {
   "cell_type": "markdown",
   "metadata": {},
   "source": [
    "## LeNet-5"
   ]
  },
  {
   "cell_type": "code",
   "execution_count": null,
   "metadata": {},
   "outputs": [],
   "source": [
    "from keras.layers import BatchNormalization\n",
    "from keras.layers import Dropout\n",
    "from sklearn.model_selection import StratifiedKFold\n",
    "import numpy\n",
    "from keras.utils.np_utils import to_categorical\n",
    "from keras.callbacks import ModelCheckpoint, EarlyStopping, TensorBoard\n",
    "import keras \n",
    "from keras.models import Sequential\n",
    "from keras.layers import Conv2D\n",
    "from keras.layers import MaxPooling2D\n",
    "from keras.layers import Flatten\n",
    "from keras.layers import Dense"
   ]
  },
  {
   "cell_type": "code",
   "execution_count": null,
   "metadata": {},
   "outputs": [],
   "source": [
    "# earlystopper = EarlyStopping(monitor='val_loss', min_delta=0,\n",
    "#                              patience=10, verbose=1, mode='auto')\n",
    "# earlystopper = EarlyStopping(monitor='val_accuracy', min_delta=0,\n",
    "#                              patience=5, verbose=1, mode='auto')\n",
    "earlystopper = EarlyStopping(monitor='val_loss', min_delta=0,\n",
    "                             patience=10, verbose=1, mode='auto')\n",
    "# tensorboard = TensorBoard(log_dir='./tensorboard_brandnew')\n",
    "# checkpointer = ModelCheckpoint(#filepath='./ModelCheckpoint/weights_brandnew.hdf5',\n",
    "#                                filepath='./ModelCheckpoint/model.{epoch:02d}-{val_loss:.2f}.h5',\n",
    "#                                verbose=1, save_best_only=True)\n",
    "\n",
    "# fix random seed for reproducibility\n",
    "seed = 7\n",
    "numpy.random.seed(seed)\n",
    "\n",
    "# define 10-fold cross validation test harness\n",
    "kfold = StratifiedKFold(n_splits=5, shuffle=True, random_state=seed)\n",
    "X = data_train\n",
    "Y = y_train\n",
    "cvscores = []\n",
    "history = []\n",
    "lim = 0\n",
    "count = 0\n",
    "for train, test in kfold.split(X, Y):\n",
    "    y_cat = to_categorical(Y).astype(int)\n",
    "    print('k = ', count)\n",
    "    count += 1\n",
    "    model = Sequential()\n",
    "    #Layer 1\n",
    "    #Conv Layer 1\n",
    "    model.add(Conv2D(filters = 6,  kernel_initializer='he_normal', kernel_regularizer='l2',\n",
    "                     kernel_size = 5, \n",
    "                     strides = 1, \n",
    "                     activation = 'relu', \n",
    "                     input_shape = (32,32,1)))\n",
    "    model.add(Dropout(0.1))\n",
    "    model.add(BatchNormalization())\n",
    "    #Pooling layer 1\n",
    "    model.add(MaxPooling2D(pool_size = 2, strides = 2))\n",
    "    #Layer 2\n",
    "    #Conv Layer 2\n",
    "    model.add(Conv2D(filters = 16, kernel_initializer='he_normal',\n",
    "                     kernel_size = 5,\n",
    "                     strides = 1,\n",
    "                     activation = 'relu',\n",
    "                     input_shape = (14,14,6)))\n",
    "#     model.add(Dropout(0.1))\n",
    "#     model.add(BatchNormalization())\n",
    "    #Pooling Layer 2\n",
    "    model.add(MaxPooling2D(pool_size = 2, strides = 2))\n",
    "    #Flatten\n",
    "    model.add(Flatten())\n",
    "#     model.add(BatchNormalization())\n",
    "    #Layer 3\n",
    "    #Fully connected layer 1\n",
    "    model.add(Dense(units = 120, activation = 'relu', kernel_initializer='he_normal', kernel_regularizer='l2'))\n",
    "    model.add(Dropout(0.1))\n",
    "    #Layer 4\n",
    "    #Fully connected layer 2\n",
    "    model.add(Dense(units = 84, activation = 'relu', kernel_initializer='normal'))\n",
    "    model.add(Dropout(0.1))\n",
    "#     model.add(BatchNormalization())\n",
    "    #Layer 5\n",
    "    #Output Layer\n",
    "    model.add(Dense(units = 28, activation = 'softmax'))\n",
    "\n",
    "    # Compile model\n",
    "    model.compile(optimizer = 'RMSProp', loss = 'categorical_crossentropy', metrics = ['accuracy'])\n",
    "    \n",
    "    # Fit the model\n",
    "#     model.fit(X[train], y_cat[train], epochs=8, batch_size=16, verbose=1)\n",
    "    h = model.fit(X[train] ,y_cat[train], epochs = 64,\n",
    "                    batch_size = 16, \n",
    "                    validation_data = [X[test], y_cat[test]],\n",
    "                    )\n",
    "#                       callbacks = [earlystopper])\n",
    "#                     callbacks=[checkpointer, earlystopper, tensorboard])\n",
    "\n",
    "#     model.compile(loss='categorical_crossentropy', optimizer='adam', metrics=['accuracy'])\n",
    "    history.append(h)\n",
    "    # evaluate the model\n",
    "    scores = model.evaluate(X[test], y_cat[test], verbose=1)\n",
    "    if scores[1]>lim:\n",
    "        lim = scores[1]\n",
    "        filename = 'best_model_LeNet.pkl'\n",
    "        pickle.dump(model, open(filename, 'wb'))\n",
    "        model.save('saved_kfold_model_temp')\n",
    "    filename = 'leNet_'+str(count)+'.pkl'\n",
    "    pickle.dump(model, open(filename, 'wb'))\n",
    "    print(\"%s: %.2f%%\" % (model.metrics_names[1], scores[1]*100))\n",
    "    cvscores.append(scores[1] * 100)\n",
    "print(\"%.2f%% (+/- %.2f%%)\" % (numpy.mean(cvscores), numpy.std(cvscores)))"
   ]
  }
 ],
 "metadata": {
  "kernelspec": {
   "display_name": "tf2",
   "language": "python",
   "name": "tf2"
  },
  "language_info": {
   "codemirror_mode": {
    "name": "ipython",
    "version": 3
   },
   "file_extension": ".py",
   "mimetype": "text/x-python",
   "name": "python",
   "nbconvert_exporter": "python",
   "pygments_lexer": "ipython3",
   "version": "3.6.9"
  }
 },
 "nbformat": 4,
 "nbformat_minor": 4
}
